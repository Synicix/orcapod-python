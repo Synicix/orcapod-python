{
 "cells": [
  {
   "cell_type": "code",
   "execution_count": 1,
   "id": "44b8f024",
   "metadata": {},
   "outputs": [],
   "source": [
    "import datajoint as dj"
   ]
  },
  {
   "cell_type": "code",
   "execution_count": 2,
   "id": "7b4a9034",
   "metadata": {},
   "outputs": [
    {
     "name": "stderr",
     "output_type": "stream",
     "text": [
      "[2025-05-02 04:41:11,461][INFO]: Connecting eywalker@at-database3.stanford.edu:3306\n",
      "[2025-05-02 04:41:11,549][INFO]: Connected eywalker@at-database3.stanford.edu:3306\n"
     ]
    },
    {
     "data": {
      "text/plain": [
       "DataJoint connection (connected) eywalker@at-database3.stanford.edu:3306"
      ]
     },
     "execution_count": 2,
     "metadata": {},
     "output_type": "execute_result"
    }
   ],
   "source": [
    "dj.conn()"
   ]
  },
  {
   "cell_type": "code",
   "execution_count": 3,
   "id": "e4839cd9",
   "metadata": {},
   "outputs": [],
   "source": [
    "from orcabridge.source import GlobSource\n",
    "from orcabridge.pod import FunctionPodWithDirStorage\n",
    "from orcabridge.mapper import MapKeys\n",
    "from orcabridge.dj.tracker import DJTracker"
   ]
  },
  {
   "cell_type": "code",
   "execution_count": 4,
   "id": "f490370b",
   "metadata": {},
   "outputs": [],
   "source": [
    "schema = dj.schema('enigma_orca_bridge_test')"
   ]
  },
  {
   "cell_type": "code",
   "execution_count": 5,
   "id": "c42e508e",
   "metadata": {},
   "outputs": [],
   "source": [
    "gs = GlobSource('bin_data', './examples/dataset2', '*.bin')"
   ]
  },
  {
   "cell_type": "code",
   "execution_count": 6,
   "id": "63a82814",
   "metadata": {},
   "outputs": [
    {
     "name": "stdout",
     "output_type": "stream",
     "text": [
      "{'file_name': 'session_day1'} {'bin_data': PosixPath('examples/dataset2/session_day1.bin')}\n",
      "{'file_name': 'session_day3'} {'bin_data': PosixPath('examples/dataset2/session_day3.bin')}\n",
      "{'file_name': 'session_day4'} {'bin_data': PosixPath('examples/dataset2/session_day4.bin')}\n",
      "{'file_name': 'session_day5'} {'bin_data': PosixPath('examples/dataset2/session_day5.bin')}\n"
     ]
    }
   ],
   "source": [
    "for tag, packet in gs:\n",
    "    print(tag, packet)"
   ]
  },
  {
   "cell_type": "code",
   "execution_count": 7,
   "id": "7b8b0cae",
   "metadata": {},
   "outputs": [],
   "source": [
    "import os\n",
    "import tempfile\n",
    "import json\n",
    "from pathlib import Path\n",
    "import yaml\n",
    "\n",
    "def compute_length(bin_data: os.PathLike):\n",
    "    data = {}\n",
    "    with open(bin_data, 'rb') as f:\n",
    "        data['lines'] = len(f.read())\n",
    "    \n",
    "    temp_dir = tempfile.mkdtemp()\n",
    "    data_path = Path(temp_dir) / 'length.json'\n",
    "    with open(data_path, 'w') as f:\n",
    "        json.dump(data, f)\n",
    "    return data_path\n",
    "    \n",
    "def json_to_yaml(json_file: os.PathLike):\n",
    "    with open(json_file, 'r') as f:\n",
    "        data = json.load(f)\n",
    "    \n",
    "    temp_dir = tempfile.mkdtemp()\n",
    "    data_path = Path(temp_dir) / Path(json_file).with_suffix('.yaml').name\n",
    "    with open(data_path, 'w') as f:\n",
    "        yaml.dump(data, f)\n",
    "    return data_path"
   ]
  },
  {
   "cell_type": "code",
   "execution_count": 8,
   "id": "23d2787c",
   "metadata": {},
   "outputs": [],
   "source": [
    "json_fp = FunctionPodWithDirStorage(compute_length, ['data_length'])\n",
    "map_key = MapKeys({'data_length': 'json_file'})\n",
    "yaml_fp = FunctionPodWithDirStorage(json_to_yaml, ['data_yaml'])"
   ]
  },
  {
   "cell_type": "code",
   "execution_count": 9,
   "id": "455b6c42",
   "metadata": {},
   "outputs": [],
   "source": [
    "tracker = DJTracker()"
   ]
  },
  {
   "cell_type": "code",
   "execution_count": 10,
   "id": "3f79fd81",
   "metadata": {},
   "outputs": [],
   "source": [
    "with tracker:\n",
    "    json_data = json_fp(gs())\n",
    "    yaml_data = yaml_fp(map_key(json_data))\n"
   ]
  },
  {
   "cell_type": "code",
   "execution_count": 11,
   "id": "533be611",
   "metadata": {},
   "outputs": [
    {
     "name": "stdout",
     "output_type": "stream",
     "text": [
      "Tag: {'file_name': 'session_day1'}, Packet: {'data_yaml': 'pod_data/json_to_yaml/bcb62d22-578c-6ed4-642c-4523886e00c2/length.yaml'}\n",
      "Tag: {'file_name': 'session_day3'}, Packet: {'data_yaml': 'pod_data/json_to_yaml/ea397222-a88f-abba-0c41-3c7b208eb8bf/length.yaml'}\n",
      "Tag: {'file_name': 'session_day4'}, Packet: {'data_yaml': 'pod_data/json_to_yaml/b06f7a0f-b52f-b7cd-297e-f5f368c8c5a9/length.yaml'}\n",
      "Tag: {'file_name': 'session_day5'}, Packet: {'data_yaml': 'pod_data/json_to_yaml/4e887f7e-6429-43e4-a882-84f2d977c321/length.yaml'}\n"
     ]
    }
   ],
   "source": [
    "yaml_data.preview(0)"
   ]
  },
  {
   "cell_type": "code",
   "execution_count": 12,
   "id": "751cabcb",
   "metadata": {},
   "outputs": [],
   "source": [
    "G = tracker.generate_graph()"
   ]
  },
  {
   "cell_type": "code",
   "execution_count": 13,
   "id": "0e8579f8",
   "metadata": {},
   "outputs": [],
   "source": [
    "tables = tracker.generate_tables(schema)"
   ]
  },
  {
   "cell_type": "code",
   "execution_count": 15,
   "id": "0feccb2d",
   "metadata": {},
   "outputs": [
    {
     "data": {
      "text/plain": [
       "4"
      ]
     },
     "execution_count": 15,
     "metadata": {},
     "output_type": "execute_result"
    }
   ],
   "source": [
    "tables[0].populate()"
   ]
  },
  {
   "cell_type": "code",
   "execution_count": 25,
   "id": "b94dcb78",
   "metadata": {},
   "outputs": [
    {
     "data": {
      "text/plain": [
       "8726709900571"
      ]
     },
     "execution_count": 25,
     "metadata": {},
     "output_type": "execute_result"
    }
   ],
   "source": [
    "hash(test)"
   ]
  },
  {
   "cell_type": "code",
   "execution_count": null,
   "id": "75e44f7a",
   "metadata": {},
   "outputs": [
    {
     "data": {
      "text/plain": [
       "8726709900715"
      ]
     },
     "metadata": {},
     "output_type": "display_data"
    }
   ],
   "source": [
    "hash(test)"
   ]
  },
  {
   "cell_type": "code",
   "execution_count": 17,
   "id": "4306f897",
   "metadata": {},
   "outputs": [
    {
     "ename": "TypeError",
     "evalue": "json_to_yaml() got an unexpected keyword argument 'data_length'",
     "output_type": "error",
     "traceback": [
      "\u001b[0;31m---------------------------------------------------------------------------\u001b[0m",
      "\u001b[0;31mTypeError\u001b[0m                                 Traceback (most recent call last)",
      "Cell \u001b[0;32mIn[17], line 1\u001b[0m\n\u001b[0;32m----> 1\u001b[0m \u001b[43mtables\u001b[49m\u001b[43m[\u001b[49m\u001b[38;5;241;43m2\u001b[39;49m\u001b[43m]\u001b[49m\u001b[38;5;241;43m.\u001b[39;49m\u001b[43mpopulate\u001b[49m\u001b[43m(\u001b[49m\u001b[43m)\u001b[49m\n",
      "File \u001b[0;32m/opt/venv/lib/python3.10/site-packages/datajoint/autopopulate.py:254\u001b[0m, in \u001b[0;36mAutoPopulate.populate\u001b[0;34m(self, keys, suppress_errors, return_exception_objects, reserve_jobs, order, limit, max_calls, display_progress, processes, make_kwargs, *restrictions)\u001b[0m\n\u001b[1;32m    248\u001b[0m \u001b[38;5;28;01mif\u001b[39;00m processes \u001b[38;5;241m==\u001b[39m \u001b[38;5;241m1\u001b[39m:\n\u001b[1;32m    249\u001b[0m     \u001b[38;5;28;01mfor\u001b[39;00m key \u001b[38;5;129;01min\u001b[39;00m (\n\u001b[1;32m    250\u001b[0m         tqdm(keys, desc\u001b[38;5;241m=\u001b[39m\u001b[38;5;28mself\u001b[39m\u001b[38;5;241m.\u001b[39m\u001b[38;5;18m__class__\u001b[39m\u001b[38;5;241m.\u001b[39m\u001b[38;5;18m__name__\u001b[39m)\n\u001b[1;32m    251\u001b[0m         \u001b[38;5;28;01mif\u001b[39;00m display_progress\n\u001b[1;32m    252\u001b[0m         \u001b[38;5;28;01melse\u001b[39;00m keys\n\u001b[1;32m    253\u001b[0m     ):\n\u001b[0;32m--> 254\u001b[0m         status \u001b[38;5;241m=\u001b[39m \u001b[38;5;28;43mself\u001b[39;49m\u001b[38;5;241;43m.\u001b[39;49m\u001b[43m_populate1\u001b[49m\u001b[43m(\u001b[49m\u001b[43mkey\u001b[49m\u001b[43m,\u001b[49m\u001b[43m \u001b[49m\u001b[43mjobs\u001b[49m\u001b[43m,\u001b[49m\u001b[43m \u001b[49m\u001b[38;5;241;43m*\u001b[39;49m\u001b[38;5;241;43m*\u001b[39;49m\u001b[43mpopulate_kwargs\u001b[49m\u001b[43m)\u001b[49m\n\u001b[1;32m    255\u001b[0m         \u001b[38;5;28;01mif\u001b[39;00m status \u001b[38;5;129;01mis\u001b[39;00m \u001b[38;5;28;01mTrue\u001b[39;00m:\n\u001b[1;32m    256\u001b[0m             success_list\u001b[38;5;241m.\u001b[39mappend(\u001b[38;5;241m1\u001b[39m)\n",
      "File \u001b[0;32m/opt/venv/lib/python3.10/site-packages/datajoint/autopopulate.py:322\u001b[0m, in \u001b[0;36mAutoPopulate._populate1\u001b[0;34m(self, key, jobs, suppress_errors, return_exception_objects, make_kwargs)\u001b[0m\n\u001b[1;32m    320\u001b[0m \u001b[38;5;28mself\u001b[39m\u001b[38;5;241m.\u001b[39m\u001b[38;5;18m__class__\u001b[39m\u001b[38;5;241m.\u001b[39m_allow_insert \u001b[38;5;241m=\u001b[39m \u001b[38;5;28;01mTrue\u001b[39;00m\n\u001b[1;32m    321\u001b[0m \u001b[38;5;28;01mtry\u001b[39;00m:\n\u001b[0;32m--> 322\u001b[0m     \u001b[43mmake\u001b[49m\u001b[43m(\u001b[49m\u001b[38;5;28;43mdict\u001b[39;49m\u001b[43m(\u001b[49m\u001b[43mkey\u001b[49m\u001b[43m)\u001b[49m\u001b[43m,\u001b[49m\u001b[43m \u001b[49m\u001b[38;5;241;43m*\u001b[39;49m\u001b[38;5;241;43m*\u001b[39;49m\u001b[43m(\u001b[49m\u001b[43mmake_kwargs\u001b[49m\u001b[43m \u001b[49m\u001b[38;5;129;43;01mor\u001b[39;49;00m\u001b[43m \u001b[49m\u001b[43m{\u001b[49m\u001b[43m}\u001b[49m\u001b[43m)\u001b[49m\u001b[43m)\u001b[49m\n\u001b[1;32m    323\u001b[0m \u001b[38;5;28;01mexcept\u001b[39;00m (\u001b[38;5;167;01mKeyboardInterrupt\u001b[39;00m, \u001b[38;5;167;01mSystemExit\u001b[39;00m, \u001b[38;5;167;01mException\u001b[39;00m) \u001b[38;5;28;01mas\u001b[39;00m error:\n\u001b[1;32m    324\u001b[0m     \u001b[38;5;28;01mtry\u001b[39;00m:\n",
      "File \u001b[0;32m~/workspace/orcabridge/src/orcabridge/dj/pod.py:84\u001b[0m, in \u001b[0;36mTableCachedPod.compile.<locals>.PodTable.make\u001b[0;34m(self, key)\u001b[0m\n\u001b[1;32m     81\u001b[0m \u001b[38;5;66;03m# form QueryStream using key\u001b[39;00m\n\u001b[1;32m     82\u001b[0m query_stream \u001b[38;5;241m=\u001b[39m QueryStream(source \u001b[38;5;241m&\u001b[39m key, parent_tables)\n\u001b[0;32m---> 84\u001b[0m \u001b[38;5;28;01mfor\u001b[39;00m key, packet \u001b[38;5;129;01min\u001b[39;00m outer_class\u001b[38;5;241m.\u001b[39mfp(query_stream):\n\u001b[1;32m     85\u001b[0m     key\u001b[38;5;241m.\u001b[39mupdate(packet)\n\u001b[1;32m     86\u001b[0m     \u001b[38;5;28mself\u001b[39m\u001b[38;5;241m.\u001b[39minsert1(key)\n",
      "File \u001b[0;32m~/workspace/orcabridge/src/orcabridge/stream.py:87\u001b[0m, in \u001b[0;36mSyncStreamFromGenerator.__iter__\u001b[0;34m(self)\u001b[0m\n\u001b[1;32m     86\u001b[0m \u001b[38;5;28;01mdef\u001b[39;00m\u001b[38;5;250m \u001b[39m\u001b[38;5;21m__iter__\u001b[39m(\u001b[38;5;28mself\u001b[39m) \u001b[38;5;241m-\u001b[39m\u001b[38;5;241m>\u001b[39m Iterator[Tuple[Tag, Packet]]:\n\u001b[0;32m---> 87\u001b[0m     \u001b[38;5;28;01myield from\u001b[39;00m \u001b[38;5;28mself\u001b[39m\u001b[38;5;241m.\u001b[39mgenerator_factory()\n",
      "File \u001b[0;32m~/workspace/orcabridge/src/orcabridge/pod.py:49\u001b[0m, in \u001b[0;36mFunctionPod.forward.<locals>.generator\u001b[0;34m()\u001b[0m\n\u001b[1;32m     47\u001b[0m     \u001b[38;5;28;01myield\u001b[39;00m tag, memoized_packet\n\u001b[1;32m     48\u001b[0m     \u001b[38;5;28;01mcontinue\u001b[39;00m\n\u001b[0;32m---> 49\u001b[0m values \u001b[38;5;241m=\u001b[39m \u001b[38;5;28;43mself\u001b[39;49m\u001b[38;5;241;43m.\u001b[39;49m\u001b[43mfunction\u001b[49m\u001b[43m(\u001b[49m\u001b[38;5;241;43m*\u001b[39;49m\u001b[38;5;241;43m*\u001b[39;49m\u001b[43mpacket\u001b[49m\u001b[43m)\u001b[49m\n\u001b[1;32m     50\u001b[0m \u001b[38;5;28;01mif\u001b[39;00m \u001b[38;5;28mlen\u001b[39m(\u001b[38;5;28mself\u001b[39m\u001b[38;5;241m.\u001b[39moutput_keys) \u001b[38;5;241m==\u001b[39m \u001b[38;5;241m0\u001b[39m:\n\u001b[1;32m     51\u001b[0m     values \u001b[38;5;241m=\u001b[39m []\n",
      "\u001b[0;31mTypeError\u001b[0m: json_to_yaml() got an unexpected keyword argument 'data_length'"
     ]
    }
   ],
   "source": [
    "tables[2].populate()"
   ]
  },
  {
   "cell_type": "code",
   "execution_count": null,
   "id": "b1d4ecc1",
   "metadata": {},
   "outputs": [],
   "source": []
  },
  {
   "cell_type": "code",
   "execution_count": null,
   "id": "bbcf9f1a",
   "metadata": {},
   "outputs": [
    {
     "data": {
      "text/html": [
       "\n",
       "    \n",
       "    <style type=\"text/css\">\n",
       "        .Table{\n",
       "            border-collapse:collapse;\n",
       "        }\n",
       "        .Table th{\n",
       "            background: #A0A0A0; color: #ffffff; padding:4px; border:#f0e0e0 1px solid;\n",
       "            font-weight: normal; font-family: monospace; font-size: 100%;\n",
       "        }\n",
       "        .Table td{\n",
       "            padding:4px; border:#f0e0e0 1px solid; font-size:100%;\n",
       "        }\n",
       "        .Table tr:nth-child(odd){\n",
       "            background: #ffffff;\n",
       "            color: #000000;\n",
       "        }\n",
       "        .Table tr:nth-child(even){\n",
       "            background: #f3f1ff;\n",
       "            color: #000000;\n",
       "        }\n",
       "        /* Tooltip container */\n",
       "        .djtooltip {\n",
       "        }\n",
       "        /* Tooltip text */\n",
       "        .djtooltip .djtooltiptext {\n",
       "            visibility: hidden;\n",
       "            width: 120px;\n",
       "            background-color: black;\n",
       "            color: #fff;\n",
       "            text-align: center;\n",
       "            padding: 5px 0;\n",
       "            border-radius: 6px;\n",
       "            /* Position the tooltip text - see examples below! */\n",
       "            position: absolute;\n",
       "            z-index: 1;\n",
       "        }\n",
       "        #primary {\n",
       "            font-weight: bold;\n",
       "            color: black;\n",
       "        }\n",
       "        #nonprimary {\n",
       "            font-weight: normal;\n",
       "            color: white;\n",
       "        }\n",
       "\n",
       "        /* Show the tooltip text when you mouse over the tooltip container */\n",
       "        .djtooltip:hover .djtooltiptext {\n",
       "            visibility: visible;\n",
       "        }\n",
       "    </style>\n",
       "    \n",
       "    <b>glob_source outputs</b>\n",
       "        <div style=\"max-height:1000px;max-width:1500px;overflow:auto;\">\n",
       "        <table border=\"1\" class=\"Table\">\n",
       "            <thead> <tr style=\"text-align: right;\"> <th> <div class=\"djtooltip\">\n",
       "                            <p id=\"primary\">file_name</p>\n",
       "                            <span class=\"djtooltiptext\"></span>\n",
       "                        </div></th><th><div class=\"djtooltip\">\n",
       "                            <p id=\"nonprimary\">bin_data</p>\n",
       "                            <span class=\"djtooltiptext\"></span>\n",
       "                        </div> </th> </tr> </thead>\n",
       "            <tbody> <tr>  </tr> </tbody>\n",
       "        </table>\n",
       "        \n",
       "        <p>Total: 0</p></div>\n",
       "        "
      ],
      "text/plain": [
       "*file_name    bin_data    \n",
       "+-----------+ +----------+\n",
       "\n",
       " (Total: 0)"
      ]
     },
     "execution_count": 32,
     "metadata": {},
     "output_type": "execute_result"
    }
   ],
   "source": [
    "for tag, packet in tables[0]:"
   ]
  },
  {
   "cell_type": "code",
   "execution_count": 44,
   "id": "ee63ac8d",
   "metadata": {},
   "outputs": [
    {
     "data": {
      "text/plain": [
       "'`enigma_orca_bridge_test`.`glob_source`'"
      ]
     },
     "execution_count": 44,
     "metadata": {},
     "output_type": "execute_result"
    }
   ],
   "source": [
    "tables[0].full_table_name"
   ]
  },
  {
   "cell_type": "code",
   "execution_count": 46,
   "id": "70be095b",
   "metadata": {},
   "outputs": [],
   "source": [
    "t1 = tables[0]\n",
    "t2 = tables[1]\n",
    "t3 = tables[2]"
   ]
  },
  {
   "cell_type": "code",
   "execution_count": 14,
   "id": "fa22b453",
   "metadata": {},
   "outputs": [],
   "source": [
    "v = next(iter(G.nodes))"
   ]
  },
  {
   "cell_type": "code",
   "execution_count": 15,
   "id": "8a644451",
   "metadata": {},
   "outputs": [],
   "source": [
    "node = v\n",
    "edges = G.out_edges(node)\n",
    "\n",
    "\n",
    "\n"
   ]
  },
  {
   "cell_type": "code",
   "execution_count": null,
   "id": "dda6593e",
   "metadata": {},
   "outputs": [],
   "source": []
  },
  {
   "cell_type": "code",
   "execution_count": null,
   "id": "3741528c",
   "metadata": {},
   "outputs": [],
   "source": [
    "from orcabridge.source import Source\n",
    "from orcabridge.stream import SyncStream\n",
    "from orcabridge.mapper import Join, MapKeys, MapTags\n",
    "from typing import Collection\n",
    "from orcabridge.base import Operation\n",
    "from orcabridge.pod import Pod, FunctionPod\n",
    "from orcabridge.dj.stream import QueryStream\n",
    "from orcabridge.dj.source import TableCachedSource\n",
    "from orcabridge.dj.pod import TableCachedPod\n",
    "from orcabridge.dj.mapper import JoinQuery, RestrictQuery, ProjectQuery\n",
    "def wrap_with_table(operation: Operation, streams: Collection[QueryStream], schema: dj.Schema, table_name: str):\n",
    "\n",
    "    if isinstance(operation, Source) and len(streams) == 0:\n",
    "        return TableCachedSource(operation, schema, table_name)\n",
    "    \n",
    "    if isinstance(operation, FunctionPod):\n",
    "        return TableCachedPod(operation, schema, table_name, streams=streams)\n",
    "    \n",
    "    if isinstance(operation, Join):\n",
    "        return JoinQuery()\n",
    "    \n",
    "    if isinstance(operation, MapKeys):\n",
    "        proj_map = {v:k for k, v in operation.key_map.items()}\n",
    "        return ProjectQuery(..., **proj_map)\n",
    "    \n",
    "    if isinstance(operation, MapTags):\n",
    "        proj_map = {v:k for k, v in operation.tag_map.items()}\n",
    "        args = [] if operation.drop_unmapped else [...]\n",
    "        return ProjectQuery(*args, **proj_map)\n",
    "\n",
    "    print(f'Unknown operation: {operation}, passing back as is')\n",
    "    return operation"
   ]
  },
  {
   "cell_type": "code",
   "execution_count": 48,
   "id": "2206c56e",
   "metadata": {},
   "outputs": [],
   "source": [
    "edge = list(G.edges())[0]"
   ]
  },
  {
   "cell_type": "code",
   "execution_count": 49,
   "id": "8f92c02d",
   "metadata": {},
   "outputs": [
    {
     "data": {
      "text/plain": [
       "<orcabridge.stream.SyncStreamFromGenerator at 0x7fa180876620>"
      ]
     },
     "execution_count": 49,
     "metadata": {},
     "output_type": "execute_result"
    }
   ],
   "source": [
    "G.edges[edge]['stream']"
   ]
  },
  {
   "cell_type": "code",
   "execution_count": null,
   "id": "6f140a96",
   "metadata": {},
   "outputs": [],
   "source": []
  },
  {
   "cell_type": "code",
   "execution_count": null,
   "id": "deba603f",
   "metadata": {},
   "outputs": [],
   "source": [
    "\n"
   ]
  },
  {
   "cell_type": "code",
   "execution_count": 52,
   "id": "5ebd1f75",
   "metadata": {},
   "outputs": [
    {
     "data": {
      "text/plain": [
       "{<orcabridge.stream.SyncStreamFromGenerator at 0x7fa180876620>: <orcabridge.dj.stream.TableCachedStream at 0x7fa17fbae440>}"
      ]
     },
     "execution_count": 52,
     "metadata": {},
     "output_type": "execute_result"
    }
   ],
   "source": [
    "edge_lut"
   ]
  },
  {
   "cell_type": "code",
   "execution_count": 46,
   "id": "0558a6cf",
   "metadata": {},
   "outputs": [
    {
     "name": "stdout",
     "output_type": "stream",
     "text": [
      "> \u001b[0;32m/home/eywalker/workspace/orcabridge/src/orcabridge/dj/pod.py\u001b[0m(36)\u001b[0;36mcompile\u001b[0;34m()\u001b[0m\n",
      "\u001b[0;32m     34 \u001b[0;31m    \u001b[0;32mdef\u001b[0m \u001b[0mcompile\u001b[0m\u001b[0;34m(\u001b[0m\u001b[0mself\u001b[0m\u001b[0;34m)\u001b[0m \u001b[0;34m->\u001b[0m \u001b[0;32mNone\u001b[0m\u001b[0;34m:\u001b[0m\u001b[0;34m\u001b[0m\u001b[0;34m\u001b[0m\u001b[0m\n",
      "\u001b[0m\u001b[0;32m     35 \u001b[0;31m        \u001b[0;32mif\u001b[0m \u001b[0;32mnot\u001b[0m \u001b[0mall\u001b[0m\u001b[0;34m(\u001b[0m\u001b[0misinstance\u001b[0m\u001b[0;34m(\u001b[0m\u001b[0ms\u001b[0m\u001b[0;34m,\u001b[0m \u001b[0mQueryStream\u001b[0m\u001b[0;34m)\u001b[0m \u001b[0;32mfor\u001b[0m \u001b[0ms\u001b[0m \u001b[0;32min\u001b[0m \u001b[0mself\u001b[0m\u001b[0;34m.\u001b[0m\u001b[0mstreams\u001b[0m\u001b[0;34m)\u001b[0m\u001b[0;34m:\u001b[0m\u001b[0;34m\u001b[0m\u001b[0;34m\u001b[0m\u001b[0m\n",
      "\u001b[0m\u001b[0;32m---> 36 \u001b[0;31m            \u001b[0;32mraise\u001b[0m \u001b[0mValueError\u001b[0m\u001b[0;34m(\u001b[0m\u001b[0;34m\"All streams must be QueryStreams\"\u001b[0m\u001b[0;34m)\u001b[0m\u001b[0;34m\u001b[0m\u001b[0;34m\u001b[0m\u001b[0m\n",
      "\u001b[0m\u001b[0;32m     37 \u001b[0;31m\u001b[0;34m\u001b[0m\u001b[0m\n",
      "\u001b[0m\u001b[0;32m     38 \u001b[0;31m        \u001b[0;31m# assign all upstrem tables to a local list\u001b[0m\u001b[0;34m\u001b[0m\u001b[0;34m\u001b[0m\u001b[0m\n",
      "\u001b[0m\n",
      "(<orcabridge.stream.SyncStreamFromGenerator object at 0x7fa180876620>,)\n",
      "> \u001b[0;32m/home/eywalker/workspace/orcabridge/src/orcabridge/dj/pod.py\u001b[0m(32)\u001b[0;36m__init__\u001b[0;34m()\u001b[0m\n",
      "\u001b[0;32m     30 \u001b[0;31m        \u001b[0mself\u001b[0m\u001b[0;34m.\u001b[0m\u001b[0mtable\u001b[0m \u001b[0;34m=\u001b[0m \u001b[0;32mNone\u001b[0m\u001b[0;34m\u001b[0m\u001b[0;34m\u001b[0m\u001b[0m\n",
      "\u001b[0m\u001b[0;32m     31 \u001b[0;31m        \u001b[0;32mif\u001b[0m \u001b[0mcreate_table\u001b[0m\u001b[0;34m:\u001b[0m\u001b[0;34m\u001b[0m\u001b[0;34m\u001b[0m\u001b[0m\n",
      "\u001b[0m\u001b[0;32m---> 32 \u001b[0;31m            \u001b[0mself\u001b[0m\u001b[0;34m.\u001b[0m\u001b[0mcompile\u001b[0m\u001b[0;34m(\u001b[0m\u001b[0;34m)\u001b[0m\u001b[0;34m\u001b[0m\u001b[0;34m\u001b[0m\u001b[0m\n",
      "\u001b[0m\u001b[0;32m     33 \u001b[0;31m\u001b[0;34m\u001b[0m\u001b[0m\n",
      "\u001b[0m\u001b[0;32m     34 \u001b[0;31m    \u001b[0;32mdef\u001b[0m \u001b[0mcompile\u001b[0m\u001b[0;34m(\u001b[0m\u001b[0mself\u001b[0m\u001b[0;34m)\u001b[0m \u001b[0;34m->\u001b[0m \u001b[0;32mNone\u001b[0m\u001b[0;34m:\u001b[0m\u001b[0;34m\u001b[0m\u001b[0;34m\u001b[0m\u001b[0m\n",
      "\u001b[0m\n",
      "> \u001b[0;32m/tmp/ipykernel_2385556/3618001593.py\u001b[0m(17)\u001b[0;36mwrap_with_table\u001b[0;34m()\u001b[0m\n",
      "\u001b[0;32m     15 \u001b[0;31m\u001b[0;34m\u001b[0m\u001b[0m\n",
      "\u001b[0m\u001b[0;32m     16 \u001b[0;31m    \u001b[0;32mif\u001b[0m \u001b[0misinstance\u001b[0m\u001b[0;34m(\u001b[0m\u001b[0moperation\u001b[0m\u001b[0;34m,\u001b[0m \u001b[0mFunctionPod\u001b[0m\u001b[0;34m)\u001b[0m\u001b[0;34m:\u001b[0m\u001b[0;34m\u001b[0m\u001b[0;34m\u001b[0m\u001b[0m\n",
      "\u001b[0m\u001b[0;32m---> 17 \u001b[0;31m        \u001b[0;32mreturn\u001b[0m \u001b[0mTableCachedPod\u001b[0m\u001b[0;34m(\u001b[0m\u001b[0moperation\u001b[0m\u001b[0;34m,\u001b[0m \u001b[0mschema\u001b[0m\u001b[0;34m,\u001b[0m \u001b[0mtable_name\u001b[0m\u001b[0;34m,\u001b[0m \u001b[0mstreams\u001b[0m\u001b[0;34m=\u001b[0m\u001b[0mstreams\u001b[0m\u001b[0;34m)\u001b[0m\u001b[0;34m\u001b[0m\u001b[0;34m\u001b[0m\u001b[0m\n",
      "\u001b[0m\u001b[0;32m     18 \u001b[0;31m\u001b[0;34m\u001b[0m\u001b[0m\n",
      "\u001b[0m\u001b[0;32m     19 \u001b[0;31m    \u001b[0;32mif\u001b[0m \u001b[0misinstance\u001b[0m\u001b[0;34m(\u001b[0m\u001b[0moperation\u001b[0m\u001b[0;34m,\u001b[0m \u001b[0mJoin\u001b[0m\u001b[0;34m)\u001b[0m\u001b[0;34m:\u001b[0m\u001b[0;34m\u001b[0m\u001b[0;34m\u001b[0m\u001b[0m\n",
      "\u001b[0m\n",
      "(<orcabridge.stream.SyncStreamFromGenerator object at 0x7fa180876620>,)\n"
     ]
    }
   ],
   "source": [
    "%debug"
   ]
  },
  {
   "cell_type": "code",
   "execution_count": 45,
   "id": "44fe48e8",
   "metadata": {},
   "outputs": [
    {
     "data": {
      "text/plain": [
       "True"
      ]
     },
     "execution_count": 45,
     "metadata": {},
     "output_type": "execute_result"
    }
   ],
   "source": [
    "isinstance(output_stream, QueryStream)"
   ]
  },
  {
   "cell_type": "code",
   "execution_count": 36,
   "id": "0589f4ee",
   "metadata": {},
   "outputs": [],
   "source": [
    "tables.append(new_node.table)"
   ]
  },
  {
   "cell_type": "code",
   "execution_count": null,
   "id": "68360b95",
   "metadata": {},
   "outputs": [
    {
     "data": {
      "text/plain": [
       "[None]"
      ]
     },
     "execution_count": 34,
     "metadata": {},
     "output_type": "execute_result"
    }
   ],
   "source": [
    "tables[0]"
   ]
  },
  {
   "cell_type": "code",
   "execution_count": null,
   "id": "14e5b2bf",
   "metadata": {},
   "outputs": [],
   "source": [
    "GlobSource"
   ]
  },
  {
   "cell_type": "code",
   "execution_count": null,
   "id": "769f85f1",
   "metadata": {},
   "outputs": [],
   "source": [
    "\n",
    "node.operation\n",
    "    streams = G.in_edges(node)\n",
    "for edge in G.in_edges(node):\n",
    "    stream = G.edges[edge].get('stream', None)\n",
    "    if stream is not None and not isinstance(stream, QueryStream):\n",
    "    streams = []\n",
    "    for edge in G.in_edges(node):\n",
    "        streams.append(G.edges[edge]['stream'])\n",
    "\n",
    "\n",
    "        edge_lut[edge] = \n",
    "        edge_lut[edges] = G.edges[edges]['stream']\n",
    "        node_lut[G.nodes[edges[1]]] = G.edges[edges]['stream']\n",
    "\n",
    "if len(G.in_edges(node)) == 0:\n",
    "    isinstance(G.edges[edge]['stream'], QueryStream) for edge in G.out_edges(node):\n"
   ]
  },
  {
   "cell_type": "code",
   "execution_count": null,
   "id": "dc3cf2a0",
   "metadata": {},
   "outputs": [],
   "source": [
    "\n",
    "e = next(iter(edges))\n",
    "object_lut = {}"
   ]
  },
  {
   "cell_type": "code",
   "execution_count": null,
   "id": "3b79a3db",
   "metadata": {},
   "outputs": [
    {
     "ename": "SyntaxError",
     "evalue": "incomplete input (1980865273.py, line 2)",
     "output_type": "error",
     "traceback": [
      "\u001b[0;36m  Cell \u001b[0;32mIn[46], line 2\u001b[0;36m\u001b[0m\n\u001b[0;31m    if isinstance(stream, QueryStream):\u001b[0m\n\u001b[0m                                       ^\u001b[0m\n\u001b[0;31mSyntaxError\u001b[0m\u001b[0;31m:\u001b[0m incomplete input\n"
     ]
    }
   ],
   "source": [
    "stream = G.edges[e]['stream']\n",
    "if isinstance(stream, QueryStream):\n",
    "    object_lut[stream] = stream\n"
   ]
  },
  {
   "cell_type": "code",
   "execution_count": 30,
   "id": "7064404d",
   "metadata": {},
   "outputs": [
    {
     "name": "stdout",
     "output_type": "stream",
     "text": [
      "(GlobSource(ID:), FunctionPodWithDirStorage(ID:8784621301391))\n"
     ]
    }
   ],
   "source": [
    "for e in edges:\n",
    "    print(e)"
   ]
  },
  {
   "cell_type": "code",
   "execution_count": null,
   "id": "270e930d",
   "metadata": {},
   "outputs": [],
   "source": [
    "# visit each node\n",
    "object_lut = {}\n",
    "\n",
    "import networkx as nx\n",
    "\n",
    "for node in nx.topological_sort(G):\n",
    "    "
   ]
  },
  {
   "cell_type": "code",
   "execution_count": 18,
   "id": "3d955216",
   "metadata": {},
   "outputs": [
    {
     "data": {
      "text/plain": [
       "NodeView((GlobSource(ID:), FunctionPodWithDirStorage(ID:8784621301391)))"
      ]
     },
     "execution_count": 18,
     "metadata": {},
     "output_type": "execute_result"
    }
   ],
   "source": [
    "G.nodes"
   ]
  },
  {
   "cell_type": "code",
   "execution_count": 14,
   "id": "07c2fe78",
   "metadata": {},
   "outputs": [
    {
     "data": {
      "text/plain": [
       "[GlobSource(ID:), FunctionPodWithDirStorage(ID:8745217196426)]"
      ]
     },
     "execution_count": 14,
     "metadata": {},
     "output_type": "execute_result"
    }
   ],
   "source": [
    "list(G.nodes())"
   ]
  },
  {
   "cell_type": "code",
   "execution_count": 24,
   "id": "9ad4bb36",
   "metadata": {},
   "outputs": [
    {
     "data": {
      "text/plain": [
       "(GlobSource(ID:),\n",
       " FunctionPodWithDirStorage(ID:8745217196426),\n",
       " {'stream': <orcabridge.stream.SyncStreamFromGenerator at 0x7f4279081f60>})"
      ]
     },
     "execution_count": 24,
     "metadata": {},
     "output_type": "execute_result"
    }
   ],
   "source": [
    "list(G.edges(data=True))[0]"
   ]
  },
  {
   "cell_type": "code",
   "execution_count": 26,
   "id": "453a4cfa",
   "metadata": {},
   "outputs": [],
   "source": [
    "import networkx as nx"
   ]
  },
  {
   "cell_type": "code",
   "execution_count": 27,
   "id": "f1a5e567",
   "metadata": {},
   "outputs": [
    {
     "name": "stdout",
     "output_type": "stream",
     "text": [
      "GlobSource(ID:)\n",
      "FunctionPodWithDirStorage(ID:8745217196426)\n"
     ]
    }
   ],
   "source": [
    "for n in nx.topological_sort(G):\n",
    "    print(n)"
   ]
  },
  {
   "cell_type": "code",
   "execution_count": null,
   "id": "333aa553",
   "metadata": {},
   "outputs": [],
   "source": [
    "nx.topological_sort(G)"
   ]
  },
  {
   "cell_type": "code",
   "execution_count": null,
   "id": "bbdbebdb",
   "metadata": {},
   "outputs": [
    {
     "ename": "AttributeError",
     "evalue": "'AtlasView' object has no attribute 'edges'",
     "output_type": "error",
     "traceback": [
      "\u001b[0;31m---------------------------------------------------------------------------\u001b[0m",
      "\u001b[0;31mAttributeError\u001b[0m                            Traceback (most recent call last)",
      "Cell \u001b[0;32mIn[37], line 1\u001b[0m\n\u001b[0;32m----> 1\u001b[0m \u001b[43mG\u001b[49m\u001b[43m[\u001b[49m\u001b[43mz\u001b[49m\u001b[43m]\u001b[49m\u001b[38;5;241;43m.\u001b[39;49m\u001b[43medges\u001b[49m\n",
      "\u001b[0;31mAttributeError\u001b[0m: 'AtlasView' object has no attribute 'edges'"
     ]
    }
   ],
   "source": [
    "G[z]"
   ]
  },
  {
   "cell_type": "code",
   "execution_count": 33,
   "id": "da0973d8",
   "metadata": {},
   "outputs": [],
   "source": [
    "z = list(G.nodes)[0]"
   ]
  },
  {
   "cell_type": "code",
   "execution_count": null,
   "id": "c619528b",
   "metadata": {},
   "outputs": [],
   "source": [
    "TableCachedStreamSource"
   ]
  },
  {
   "cell_type": "code",
   "execution_count": null,
   "id": "52c7c1da",
   "metadata": {},
   "outputs": [],
   "source": [
    "G.edgk"
   ]
  },
  {
   "cell_type": "code",
   "execution_count": null,
   "id": "0552bd35",
   "metadata": {},
   "outputs": [],
   "source": [
    "G.add_edge()"
   ]
  },
  {
   "cell_type": "code",
   "execution_count": 57,
   "id": "dc6ffae5",
   "metadata": {},
   "outputs": [],
   "source": [
    "ss = TableCachedStreamSource(gs(), schema, 'BinData')"
   ]
  },
  {
   "cell_type": "code",
   "execution_count": 25,
   "id": "29958a8a",
   "metadata": {},
   "outputs": [
    {
     "name": "stdout",
     "output_type": "stream",
     "text": [
      "{'file_name': 'session_day1'} {'bin_data': PosixPath('examples/dataset2/session_day1.bin')}\n",
      "{'file_name': 'session_day3'} {'bin_data': PosixPath('examples/dataset2/session_day3.bin')}\n",
      "{'file_name': 'session_day4'} {'bin_data': PosixPath('examples/dataset2/session_day4.bin')}\n",
      "{'file_name': 'session_day5'} {'bin_data': PosixPath('examples/dataset2/session_day5.bin')}\n"
     ]
    }
   ],
   "source": [
    "for tag, packet in ss():\n",
    "    print(tag, packet)"
   ]
  },
  {
   "cell_type": "code",
   "execution_count": 27,
   "id": "85902872",
   "metadata": {},
   "outputs": [
    {
     "data": {
      "text/html": [
       "\n",
       "    \n",
       "    <style type=\"text/css\">\n",
       "        .Table{\n",
       "            border-collapse:collapse;\n",
       "        }\n",
       "        .Table th{\n",
       "            background: #A0A0A0; color: #ffffff; padding:4px; border:#f0e0e0 1px solid;\n",
       "            font-weight: normal; font-family: monospace; font-size: 100%;\n",
       "        }\n",
       "        .Table td{\n",
       "            padding:4px; border:#f0e0e0 1px solid; font-size:100%;\n",
       "        }\n",
       "        .Table tr:nth-child(odd){\n",
       "            background: #ffffff;\n",
       "            color: #000000;\n",
       "        }\n",
       "        .Table tr:nth-child(even){\n",
       "            background: #f3f1ff;\n",
       "            color: #000000;\n",
       "        }\n",
       "        /* Tooltip container */\n",
       "        .djtooltip {\n",
       "        }\n",
       "        /* Tooltip text */\n",
       "        .djtooltip .djtooltiptext {\n",
       "            visibility: hidden;\n",
       "            width: 120px;\n",
       "            background-color: black;\n",
       "            color: #fff;\n",
       "            text-align: center;\n",
       "            padding: 5px 0;\n",
       "            border-radius: 6px;\n",
       "            /* Position the tooltip text - see examples below! */\n",
       "            position: absolute;\n",
       "            z-index: 1;\n",
       "        }\n",
       "        #primary {\n",
       "            font-weight: bold;\n",
       "            color: black;\n",
       "        }\n",
       "        #nonprimary {\n",
       "            font-weight: normal;\n",
       "            color: white;\n",
       "        }\n",
       "\n",
       "        /* Show the tooltip text when you mouse over the tooltip container */\n",
       "        .djtooltip:hover .djtooltiptext {\n",
       "            visibility: visible;\n",
       "        }\n",
       "    </style>\n",
       "    \n",
       "    <b>BinData outputs</b>\n",
       "        <div style=\"max-height:1000px;max-width:1500px;overflow:auto;\">\n",
       "        <table border=\"1\" class=\"Table\">\n",
       "            <thead> <tr style=\"text-align: right;\"> <th> <div class=\"djtooltip\">\n",
       "                            <p id=\"primary\">file_name</p>\n",
       "                            <span class=\"djtooltiptext\"></span>\n",
       "                        </div></th><th><div class=\"djtooltip\">\n",
       "                            <p id=\"nonprimary\">bin_data</p>\n",
       "                            <span class=\"djtooltiptext\"></span>\n",
       "                        </div> </th> </tr> </thead>\n",
       "            <tbody> <tr> <td>session_day1</td>\n",
       "<td>examples/dataset2/session_day1.bin</td></tr><tr><td>session_day3</td>\n",
       "<td>examples/dataset2/session_day3.bin</td></tr><tr><td>session_day4</td>\n",
       "<td>examples/dataset2/session_day4.bin</td></tr><tr><td>session_day5</td>\n",
       "<td>examples/dataset2/session_day5.bin</td></tr><tr><td>session_day8</td>\n",
       "<td>examples/dataset2/session_day8.bin</td> </tr> </tbody>\n",
       "        </table>\n",
       "        \n",
       "        <p>Total: 5</p></div>\n",
       "        "
      ],
      "text/plain": [
       "*file_name     bin_data      \n",
       "+------------+ +------------+\n",
       "session_day1   examples/datas\n",
       "session_day3   examples/datas\n",
       "session_day4   examples/datas\n",
       "session_day5   examples/datas\n",
       "session_day8   examples/datas\n",
       " (Total: 5)"
      ]
     },
     "execution_count": 27,
     "metadata": {},
     "output_type": "execute_result"
    }
   ],
   "source": [
    "ss.table"
   ]
  },
  {
   "cell_type": "code",
   "execution_count": 8,
   "id": "771f1f95",
   "metadata": {},
   "outputs": [],
   "source": [
    "ss.compile(tag, packet)"
   ]
  },
  {
   "cell_type": "code",
   "execution_count": 14,
   "id": "240cd283",
   "metadata": {},
   "outputs": [],
   "source": [
    "ss.table = None"
   ]
  },
  {
   "cell_type": "code",
   "execution_count": 23,
   "id": "6b7fded1",
   "metadata": {},
   "outputs": [
    {
     "name": "stdout",
     "output_type": "stream",
     "text": [
      "{'file_name': 'session_day1'} {'bin_data': PosixPath('examples/dataset2/session_day1.bin')}\n",
      "{'file_name': 'session_day3'} {'bin_data': PosixPath('examples/dataset2/session_day3.bin')}\n",
      "{'file_name': 'session_day4'} {'bin_data': PosixPath('examples/dataset2/session_day4.bin')}\n",
      "{'file_name': 'session_day5'} {'bin_data': PosixPath('examples/dataset2/session_day5.bin')}\n",
      "{'file_name': 'session_day8'} {'bin_data': PosixPath('examples/dataset2/session_day8.bin')}\n"
     ]
    }
   ],
   "source": [
    "for tag, packet in ss():\n",
    "    print(tag, packet)"
   ]
  },
  {
   "cell_type": "code",
   "execution_count": 24,
   "id": "dd26579a",
   "metadata": {},
   "outputs": [
    {
     "data": {
      "text/html": [
       "\n",
       "    \n",
       "    <style type=\"text/css\">\n",
       "        .Table{\n",
       "            border-collapse:collapse;\n",
       "        }\n",
       "        .Table th{\n",
       "            background: #A0A0A0; color: #ffffff; padding:4px; border:#f0e0e0 1px solid;\n",
       "            font-weight: normal; font-family: monospace; font-size: 100%;\n",
       "        }\n",
       "        .Table td{\n",
       "            padding:4px; border:#f0e0e0 1px solid; font-size:100%;\n",
       "        }\n",
       "        .Table tr:nth-child(odd){\n",
       "            background: #ffffff;\n",
       "            color: #000000;\n",
       "        }\n",
       "        .Table tr:nth-child(even){\n",
       "            background: #f3f1ff;\n",
       "            color: #000000;\n",
       "        }\n",
       "        /* Tooltip container */\n",
       "        .djtooltip {\n",
       "        }\n",
       "        /* Tooltip text */\n",
       "        .djtooltip .djtooltiptext {\n",
       "            visibility: hidden;\n",
       "            width: 120px;\n",
       "            background-color: black;\n",
       "            color: #fff;\n",
       "            text-align: center;\n",
       "            padding: 5px 0;\n",
       "            border-radius: 6px;\n",
       "            /* Position the tooltip text - see examples below! */\n",
       "            position: absolute;\n",
       "            z-index: 1;\n",
       "        }\n",
       "        #primary {\n",
       "            font-weight: bold;\n",
       "            color: black;\n",
       "        }\n",
       "        #nonprimary {\n",
       "            font-weight: normal;\n",
       "            color: white;\n",
       "        }\n",
       "\n",
       "        /* Show the tooltip text when you mouse over the tooltip container */\n",
       "        .djtooltip:hover .djtooltiptext {\n",
       "            visibility: visible;\n",
       "        }\n",
       "    </style>\n",
       "    \n",
       "    <b>BinData outputs</b>\n",
       "        <div style=\"max-height:1000px;max-width:1500px;overflow:auto;\">\n",
       "        <table border=\"1\" class=\"Table\">\n",
       "            <thead> <tr style=\"text-align: right;\"> <th> <div class=\"djtooltip\">\n",
       "                            <p id=\"primary\">file_name</p>\n",
       "                            <span class=\"djtooltiptext\"></span>\n",
       "                        </div></th><th><div class=\"djtooltip\">\n",
       "                            <p id=\"nonprimary\">bin_data</p>\n",
       "                            <span class=\"djtooltiptext\"></span>\n",
       "                        </div> </th> </tr> </thead>\n",
       "            <tbody> <tr> <td>session_day1</td>\n",
       "<td>examples/dataset2/session_day1.bin</td></tr><tr><td>session_day3</td>\n",
       "<td>examples/dataset2/session_day3.bin</td></tr><tr><td>session_day4</td>\n",
       "<td>examples/dataset2/session_day4.bin</td></tr><tr><td>session_day5</td>\n",
       "<td>examples/dataset2/session_day5.bin</td></tr><tr><td>session_day8</td>\n",
       "<td>examples/dataset2/session_day8.bin</td> </tr> </tbody>\n",
       "        </table>\n",
       "        \n",
       "        <p>Total: 5</p></div>\n",
       "        "
      ],
      "text/plain": [
       "*file_name     bin_data      \n",
       "+------------+ +------------+\n",
       "session_day1   examples/datas\n",
       "session_day3   examples/datas\n",
       "session_day4   examples/datas\n",
       "session_day5   examples/datas\n",
       "session_day8   examples/datas\n",
       " (Total: 5)"
      ]
     },
     "execution_count": 24,
     "metadata": {},
     "output_type": "execute_result"
    }
   ],
   "source": [
    "ss.table"
   ]
  },
  {
   "cell_type": "code",
   "execution_count": 5,
   "id": "5803b700",
   "metadata": {},
   "outputs": [],
   "source": [
    "@schema\n",
    "class Dataset1(dj.Lookup):\n",
    "    definition = \"\"\"\n",
    "    dataset_id: int unsigned\n",
    "    ---\n",
    "    dataset_name: varchar(64)\n",
    "    \"\"\"\n",
    "    contents = [\n",
    "        (1, 'dataset1'),\n",
    "        (2, 'dataset2'),\n",
    "        (3, 'dataset3')\n",
    "    ]"
   ]
  },
  {
   "cell_type": "code",
   "execution_count": 6,
   "id": "e84b1f2b",
   "metadata": {},
   "outputs": [
    {
     "data": {
      "text/html": [
       "\n",
       "    \n",
       "    <style type=\"text/css\">\n",
       "        .Table{\n",
       "            border-collapse:collapse;\n",
       "        }\n",
       "        .Table th{\n",
       "            background: #A0A0A0; color: #ffffff; padding:4px; border:#f0e0e0 1px solid;\n",
       "            font-weight: normal; font-family: monospace; font-size: 100%;\n",
       "        }\n",
       "        .Table td{\n",
       "            padding:4px; border:#f0e0e0 1px solid; font-size:100%;\n",
       "        }\n",
       "        .Table tr:nth-child(odd){\n",
       "            background: #ffffff;\n",
       "            color: #000000;\n",
       "        }\n",
       "        .Table tr:nth-child(even){\n",
       "            background: #f3f1ff;\n",
       "            color: #000000;\n",
       "        }\n",
       "        /* Tooltip container */\n",
       "        .djtooltip {\n",
       "        }\n",
       "        /* Tooltip text */\n",
       "        .djtooltip .djtooltiptext {\n",
       "            visibility: hidden;\n",
       "            width: 120px;\n",
       "            background-color: black;\n",
       "            color: #fff;\n",
       "            text-align: center;\n",
       "            padding: 5px 0;\n",
       "            border-radius: 6px;\n",
       "            /* Position the tooltip text - see examples below! */\n",
       "            position: absolute;\n",
       "            z-index: 1;\n",
       "        }\n",
       "        #primary {\n",
       "            font-weight: bold;\n",
       "            color: black;\n",
       "        }\n",
       "        #nonprimary {\n",
       "            font-weight: normal;\n",
       "            color: white;\n",
       "        }\n",
       "\n",
       "        /* Show the tooltip text when you mouse over the tooltip container */\n",
       "        .djtooltip:hover .djtooltiptext {\n",
       "            visibility: visible;\n",
       "        }\n",
       "    </style>\n",
       "    \n",
       "    <b></b>\n",
       "        <div style=\"max-height:1000px;max-width:1500px;overflow:auto;\">\n",
       "        <table border=\"1\" class=\"Table\">\n",
       "            <thead> <tr style=\"text-align: right;\"> <th> <div class=\"djtooltip\">\n",
       "                            <p id=\"primary\">dataset_id</p>\n",
       "                            <span class=\"djtooltiptext\"></span>\n",
       "                        </div></th><th><div class=\"djtooltip\">\n",
       "                            <p id=\"nonprimary\">dataset_name</p>\n",
       "                            <span class=\"djtooltiptext\"></span>\n",
       "                        </div> </th> </tr> </thead>\n",
       "            <tbody> <tr> <td>1</td>\n",
       "<td>dataset1</td></tr><tr><td>2</td>\n",
       "<td>dataset2</td></tr><tr><td>3</td>\n",
       "<td>dataset3</td> </tr> </tbody>\n",
       "        </table>\n",
       "        \n",
       "        <p>Total: 3</p></div>\n",
       "        "
      ],
      "text/plain": [
       "*dataset_id    dataset_name  \n",
       "+------------+ +------------+\n",
       "1              dataset1      \n",
       "2              dataset2      \n",
       "3              dataset3      \n",
       " (Total: 3)"
      ]
     },
     "execution_count": 6,
     "metadata": {},
     "output_type": "execute_result"
    }
   ],
   "source": [
    "Dataset1()"
   ]
  },
  {
   "cell_type": "code",
   "execution_count": 7,
   "id": "cbbed78d",
   "metadata": {},
   "outputs": [],
   "source": [
    "RenamedDataset1 = Dataset1.proj(ds_id='dataset_id')\n",
    "@schema\n",
    "class Dataset2(dj.Computed):\n",
    "    definition = \"\"\"\n",
    "    -> RenamedDataset1\n",
    "    \"\"\"\n",
    "    def make(self, key):\n",
    "        self.insert1(key)"
   ]
  },
  {
   "cell_type": "code",
   "execution_count": 8,
   "id": "315c4959",
   "metadata": {},
   "outputs": [],
   "source": [
    "dataset1 = TableSource(Dataset1)\n",
    "dataset2 = TableSource(Dataset2)"
   ]
  },
  {
   "cell_type": "code",
   "execution_count": 9,
   "id": "a0786523",
   "metadata": {},
   "outputs": [],
   "source": [
    "import tempfile\n",
    "from pathlib import Path\n",
    "def send_message(dataset_name, output_file=None):\n",
    "    print(f'dataset_name: {dataset_name}')\n",
    "    \n",
    "    if output_file is None:\n",
    "        # prepare temp directory\n",
    "        output_file = Path(tempfile.mkdtemp()) / 'hello_world.txt'\n",
    "\n",
    "    with open(output_file, 'w') as f:\n",
    "        f.write(f'hello world to {dataset_name}')\n",
    "\n",
    "    return output_file\n",
    "    "
   ]
  },
  {
   "cell_type": "code",
   "execution_count": null,
   "id": "61c2d739",
   "metadata": {},
   "outputs": [],
   "source": [
    "GlobSource = GlobSource()"
   ]
  },
  {
   "cell_type": "code",
   "execution_count": 14,
   "id": "65c6bf0f",
   "metadata": {},
   "outputs": [
    {
     "name": "stdout",
     "output_type": "stream",
     "text": [
      "{'dataset_id': 1} {'dataset_name': 'dataset1'}\n",
      "{'dataset_id': 2} {'dataset_name': 'dataset2'}\n",
      "{'dataset_id': 3} {'dataset_name': 'dataset3'}\n"
     ]
    }
   ],
   "source": [
    "for tag, packet in dataset1:\n",
    "    print(tag, packet)"
   ]
  },
  {
   "cell_type": "code",
   "execution_count": 15,
   "id": "c848bfc1",
   "metadata": {},
   "outputs": [],
   "source": [
    "fp = FunctionPodWithDirStorage(send_message, ['hello'])"
   ]
  },
  {
   "cell_type": "code",
   "execution_count": 16,
   "id": "59e4f660",
   "metadata": {},
   "outputs": [
    {
     "name": "stdout",
     "output_type": "stream",
     "text": [
      "{'dataset_id': 1} {'hello': 'pod_data/send_message/a89026bf-31ab-255d-1572-cea4d15b05d8/hello_world.txt'}\n",
      "{'dataset_id': 2} {'hello': 'pod_data/send_message/429a2049-b40f-c32e-c078-85e6341ba81e/hello_world.txt'}\n",
      "{'dataset_id': 3} {'hello': 'pod_data/send_message/4abe57dd-1f93-c843-4448-52b691930f63/hello_world.txt'}\n"
     ]
    }
   ],
   "source": [
    "for tag, packet in fp(dataset1):\n",
    "    print(tag, packet)"
   ]
  },
  {
   "cell_type": "code",
   "execution_count": 18,
   "id": "052c56aa",
   "metadata": {},
   "outputs": [],
   "source": [
    "tw = TableCachedPod(fp, schema, streams=[dataset1()])"
   ]
  },
  {
   "cell_type": "code",
   "execution_count": 19,
   "id": "289d6745",
   "metadata": {},
   "outputs": [],
   "source": [
    "tw.compile()"
   ]
  },
  {
   "cell_type": "code",
   "execution_count": 24,
   "id": "f28c03ee",
   "metadata": {},
   "outputs": [
    {
     "data": {
      "text/plain": [
       "{'success_count': 0, 'error_list': []}"
      ]
     },
     "execution_count": 24,
     "metadata": {},
     "output_type": "execute_result"
    }
   ],
   "source": [
    "tw.table.populate()"
   ]
  },
  {
   "cell_type": "code",
   "execution_count": 21,
   "id": "5690a210",
   "metadata": {},
   "outputs": [
    {
     "name": "stdout",
     "output_type": "stream",
     "text": [
      "{'dataset_id': 1} {'hello': 'pod_data/send_message/a89026bf-31ab-255d-1572-cea4d15b05d8/hello_world.txt'}\n",
      "{'dataset_id': 2} {'hello': 'pod_data/send_message/429a2049-b40f-c32e-c078-85e6341ba81e/hello_world.txt'}\n",
      "{'dataset_id': 3} {'hello': 'pod_data/send_message/4abe57dd-1f93-c843-4448-52b691930f63/hello_world.txt'}\n"
     ]
    }
   ],
   "source": [
    "for tag, packet in tw(dataset1):\n",
    "    print(tag, packet)"
   ]
  },
  {
   "cell_type": "code",
   "execution_count": 23,
   "id": "586ced56",
   "metadata": {},
   "outputs": [
    {
     "name": "stdout",
     "output_type": "stream",
     "text": [
      "{'dataset_id': 1} {'hello': 'pod_data/send_message/a89026bf-31ab-255d-1572-cea4d15b05d8/hello_world.txt'}\n",
      "{'dataset_id': 2} {'hello': 'pod_data/send_message/429a2049-b40f-c32e-c078-85e6341ba81e/hello_world.txt'}\n",
      "{'dataset_id': 3} {'hello': 'pod_data/send_message/4abe57dd-1f93-c843-4448-52b691930f63/hello_world.txt'}\n"
     ]
    }
   ],
   "source": [
    "for tag, packet in tw():\n",
    "    print(tag, packet)"
   ]
  },
  {
   "cell_type": "code",
   "execution_count": 8,
   "id": "1937a06c",
   "metadata": {},
   "outputs": [],
   "source": [
    "tracker = Tracker()\n",
    "with tracker:\n",
    "    key_mapper = m.MapKeys({'data': 'bin_data', 'bin_data': 'data2'})\n",
    "    mapped_dataset = key_mapper(dataset1)\n",
    "    stream2 = m.MapTags({'file_name': 'source_name'})(mapped_dataset)\n",
    "    mixed = m.Join()(mapped_dataset, stream2)\n",
    "    renamed = key_mapper(mixed)"
   ]
  },
  {
   "cell_type": "code",
   "execution_count": 4,
   "id": "9e68c7b5",
   "metadata": {},
   "outputs": [
    {
     "name": "stdout",
     "output_type": "stream",
     "text": [
      "{'file_name': 'session_day1', 'source_name': 'session_day1'} {'bin_data': PosixPath('examples/dataset2/session_day1.bin')}\n",
      "{'file_name': 'session_day1', 'source_name': 'session_day3'} {'bin_data': PosixPath('examples/dataset2/session_day3.bin')}\n",
      "{'file_name': 'session_day1', 'source_name': 'session_day4'} {'bin_data': PosixPath('examples/dataset2/session_day4.bin')}\n",
      "{'file_name': 'session_day1', 'source_name': 'session_day5'} {'bin_data': PosixPath('examples/dataset2/session_day5.bin')}\n",
      "{'file_name': 'session_day3', 'source_name': 'session_day1'} {'bin_data': PosixPath('examples/dataset2/session_day1.bin')}\n",
      "{'file_name': 'session_day3', 'source_name': 'session_day3'} {'bin_data': PosixPath('examples/dataset2/session_day3.bin')}\n",
      "{'file_name': 'session_day3', 'source_name': 'session_day4'} {'bin_data': PosixPath('examples/dataset2/session_day4.bin')}\n",
      "{'file_name': 'session_day3', 'source_name': 'session_day5'} {'bin_data': PosixPath('examples/dataset2/session_day5.bin')}\n",
      "{'file_name': 'session_day4', 'source_name': 'session_day1'} {'bin_data': PosixPath('examples/dataset2/session_day1.bin')}\n",
      "{'file_name': 'session_day4', 'source_name': 'session_day3'} {'bin_data': PosixPath('examples/dataset2/session_day3.bin')}\n",
      "{'file_name': 'session_day4', 'source_name': 'session_day4'} {'bin_data': PosixPath('examples/dataset2/session_day4.bin')}\n",
      "{'file_name': 'session_day4', 'source_name': 'session_day5'} {'bin_data': PosixPath('examples/dataset2/session_day5.bin')}\n",
      "{'file_name': 'session_day5', 'source_name': 'session_day1'} {'bin_data': PosixPath('examples/dataset2/session_day1.bin')}\n",
      "{'file_name': 'session_day5', 'source_name': 'session_day3'} {'bin_data': PosixPath('examples/dataset2/session_day3.bin')}\n",
      "{'file_name': 'session_day5', 'source_name': 'session_day4'} {'bin_data': PosixPath('examples/dataset2/session_day4.bin')}\n",
      "{'file_name': 'session_day5', 'source_name': 'session_day5'} {'bin_data': PosixPath('examples/dataset2/session_day5.bin')}\n"
     ]
    }
   ],
   "source": [
    "for tag, packet in mixed:\n",
    "    print(tag, packet)"
   ]
  },
  {
   "cell_type": "code",
   "execution_count": 11,
   "id": "98c1deb7",
   "metadata": {},
   "outputs": [
    {
     "data": {
      "text/plain": [
       "{GlobSource: {GlobSource(ID:)},\n",
       " MapKeys({'data': 'bin_data', 'bin_data': 'data2'}): {MapKeys({'data': 'bin_data', 'bin_data': 'data2'})(ID:8752504299121),\n",
       "  MapKeys({'data': 'bin_data', 'bin_data': 'data2'})(ID:8752504299256)},\n",
       " MapTags({'file_name': 'source_name'}): {MapTags({'file_name': 'source_name'})(ID:8752504298785)},\n",
       " Join(): {Join()(ID:8752504298785:8752504299079)}}"
      ]
     },
     "execution_count": 11,
     "metadata": {},
     "output_type": "execute_result"
    }
   ],
   "source": [
    "tracker.invocation_lut"
   ]
  },
  {
   "cell_type": "code",
   "execution_count": 12,
   "id": "1ab3d23f",
   "metadata": {},
   "outputs": [],
   "source": [
    "labels = tracker.generate_namemap()"
   ]
  },
  {
   "cell_type": "code",
   "execution_count": 5,
   "id": "cfbf7df1",
   "metadata": {},
   "outputs": [],
   "source": [
    "import matplotlib.pyplot as plt\n",
    "import networkx as nx"
   ]
  },
  {
   "cell_type": "code",
   "execution_count": 6,
   "id": "b1fc7a76",
   "metadata": {},
   "outputs": [
    {
     "data": {
      "image/png": "[encoded data removed]",
      "text/plain": [
       "<Figure size 640x480 with 1 Axes>"
      ]
     },
     "metadata": {},
     "output_type": "display_data"
    }
   ],
   "source": [
    "plt.subplot(111)\n",
    "G = tracker.generate_graph()\n",
    "nx.draw(G, labels=labels)"
   ]
  },
  {
   "cell_type": "code",
   "execution_count": 18,
   "id": "dc321940",
   "metadata": {},
   "outputs": [
    {
     "name": "stdout",
     "output_type": "stream",
     "text": [
      "> \u001b[0;32m/opt/venv/lib/python3.10/site-packages/networkx/drawing/nx_pydot.py\u001b[0m(347)\u001b[0;36mpydot_layout\u001b[0;34m()\u001b[0m\n",
      "\u001b[0;32m    345 \u001b[0;31m\u001b[0;34m\u001b[0m\u001b[0m\n",
      "\u001b[0m\u001b[0;32m    346 \u001b[0;31m        \u001b[0;32mif\u001b[0m \u001b[0misinstance\u001b[0m\u001b[0;34m(\u001b[0m\u001b[0mnode\u001b[0m\u001b[0;34m,\u001b[0m \u001b[0mlist\u001b[0m\u001b[0;34m)\u001b[0m\u001b[0;34m:\u001b[0m\u001b[0;34m\u001b[0m\u001b[0;34m\u001b[0m\u001b[0m\n",
      "\u001b[0m\u001b[0;32m--> 347 \u001b[0;31m            \u001b[0mnode\u001b[0m \u001b[0;34m=\u001b[0m \u001b[0mnode\u001b[0m\u001b[0;34m[\u001b[0m\u001b[0;36m0\u001b[0m\u001b[0;34m]\u001b[0m\u001b[0;34m\u001b[0m\u001b[0;34m\u001b[0m\u001b[0m\n",
      "\u001b[0m\u001b[0;32m    348 \u001b[0;31m        \u001b[0mpos\u001b[0m \u001b[0;34m=\u001b[0m \u001b[0mnode\u001b[0m\u001b[0;34m.\u001b[0m\u001b[0mget_pos\u001b[0m\u001b[0;34m(\u001b[0m\u001b[0;34m)\u001b[0m\u001b[0;34m[\u001b[0m\u001b[0;36m1\u001b[0m\u001b[0;34m:\u001b[0m\u001b[0;34m-\u001b[0m\u001b[0;36m1\u001b[0m\u001b[0;34m]\u001b[0m  \u001b[0;31m# strip leading and trailing double quotes\u001b[0m\u001b[0;34m\u001b[0m\u001b[0;34m\u001b[0m\u001b[0m\n",
      "\u001b[0m\u001b[0;32m    349 \u001b[0;31m        \u001b[0;32mif\u001b[0m \u001b[0mpos\u001b[0m \u001b[0;32mis\u001b[0m \u001b[0;32mnot\u001b[0m \u001b[0;32mNone\u001b[0m\u001b[0;34m:\u001b[0m\u001b[0;34m\u001b[0m\u001b[0;34m\u001b[0m\u001b[0m\n",
      "\u001b[0m\n",
      "*** SyntaxError: invalid syntax\n",
      "*** SyntaxError: unexpected character after line continuation character\n",
      "*** SyntaxError: invalid syntax\n",
      "*** SyntaxError: invalid syntax\n",
      "Join(ID:8752005337539:8752005337653)\n",
      "\u001b[1;32m    342 \u001b[0m    \u001b[0;32mfor\u001b[0m \u001b[0mn\u001b[0m \u001b[0;32min\u001b[0m \u001b[0mG\u001b[0m\u001b[0;34m.\u001b[0m\u001b[0mnodes\u001b[0m\u001b[0;34m(\u001b[0m\u001b[0;34m)\u001b[0m\u001b[0;34m:\u001b[0m\u001b[0;34m\u001b[0m\u001b[0;34m\u001b[0m\u001b[0m\n",
      "\u001b[1;32m    343 \u001b[0m        \u001b[0mstr_n\u001b[0m \u001b[0;34m=\u001b[0m \u001b[0mstr\u001b[0m\u001b[0;34m(\u001b[0m\u001b[0mn\u001b[0m\u001b[0;34m)\u001b[0m\u001b[0;34m\u001b[0m\u001b[0;34m\u001b[0m\u001b[0m\n",
      "\u001b[1;32m    344 \u001b[0m        \u001b[0mnode\u001b[0m \u001b[0;34m=\u001b[0m \u001b[0mQ\u001b[0m\u001b[0;34m.\u001b[0m\u001b[0mget_node\u001b[0m\u001b[0;34m(\u001b[0m\u001b[0mpydot\u001b[0m\u001b[0;34m.\u001b[0m\u001b[0mquote_id_if_necessary\u001b[0m\u001b[0;34m(\u001b[0m\u001b[0mstr_n\u001b[0m\u001b[0;34m)\u001b[0m\u001b[0;34m)\u001b[0m\u001b[0;34m\u001b[0m\u001b[0;34m\u001b[0m\u001b[0m\n",
      "\u001b[1;32m    345 \u001b[0m\u001b[0;34m\u001b[0m\u001b[0m\n",
      "\u001b[1;32m    346 \u001b[0m        \u001b[0;32mif\u001b[0m \u001b[0misinstance\u001b[0m\u001b[0;34m(\u001b[0m\u001b[0mnode\u001b[0m\u001b[0;34m,\u001b[0m \u001b[0mlist\u001b[0m\u001b[0;34m)\u001b[0m\u001b[0;34m:\u001b[0m\u001b[0;34m\u001b[0m\u001b[0;34m\u001b[0m\u001b[0m\n",
      "\u001b[0;32m--> 347 \u001b[0;31m            \u001b[0mnode\u001b[0m \u001b[0;34m=\u001b[0m \u001b[0mnode\u001b[0m\u001b[0;34m[\u001b[0m\u001b[0;36m0\u001b[0m\u001b[0;34m]\u001b[0m\u001b[0;34m\u001b[0m\u001b[0;34m\u001b[0m\u001b[0m\n",
      "\u001b[0m\u001b[1;32m    348 \u001b[0m        \u001b[0mpos\u001b[0m \u001b[0;34m=\u001b[0m \u001b[0mnode\u001b[0m\u001b[0;34m.\u001b[0m\u001b[0mget_pos\u001b[0m\u001b[0;34m(\u001b[0m\u001b[0;34m)\u001b[0m\u001b[0;34m[\u001b[0m\u001b[0;36m1\u001b[0m\u001b[0;34m:\u001b[0m\u001b[0;34m-\u001b[0m\u001b[0;36m1\u001b[0m\u001b[0;34m]\u001b[0m  \u001b[0;31m# strip leading and trailing double quotes\u001b[0m\u001b[0;34m\u001b[0m\u001b[0;34m\u001b[0m\u001b[0m\n",
      "\u001b[1;32m    349 \u001b[0m        \u001b[0;32mif\u001b[0m \u001b[0mpos\u001b[0m \u001b[0;32mis\u001b[0m \u001b[0;32mnot\u001b[0m \u001b[0;32mNone\u001b[0m\u001b[0;34m:\u001b[0m\u001b[0;34m\u001b[0m\u001b[0;34m\u001b[0m\u001b[0m\n",
      "\u001b[1;32m    350 \u001b[0m            \u001b[0mxx\u001b[0m\u001b[0;34m,\u001b[0m \u001b[0myy\u001b[0m \u001b[0;34m=\u001b[0m \u001b[0mpos\u001b[0m\u001b[0;34m.\u001b[0m\u001b[0msplit\u001b[0m\u001b[0;34m(\u001b[0m\u001b[0;34m\",\"\u001b[0m\u001b[0;34m)\u001b[0m\u001b[0;34m\u001b[0m\u001b[0;34m\u001b[0m\u001b[0m\n",
      "\u001b[1;32m    351 \u001b[0m            \u001b[0mnode_pos\u001b[0m\u001b[0;34m[\u001b[0m\u001b[0mn\u001b[0m\u001b[0;34m]\u001b[0m \u001b[0;34m=\u001b[0m \u001b[0;34m(\u001b[0m\u001b[0mfloat\u001b[0m\u001b[0;34m(\u001b[0m\u001b[0mxx\u001b[0m\u001b[0;34m)\u001b[0m\u001b[0;34m,\u001b[0m \u001b[0mfloat\u001b[0m\u001b[0;34m(\u001b[0m\u001b[0myy\u001b[0m\u001b[0;34m)\u001b[0m\u001b[0;34m)\u001b[0m\u001b[0;34m\u001b[0m\u001b[0;34m\u001b[0m\u001b[0m\n",
      "\u001b[1;32m    352 \u001b[0m    \u001b[0;32mreturn\u001b[0m \u001b[0mnode_pos\u001b[0m\u001b[0;34m\u001b[0m\u001b[0;34m\u001b[0m\u001b[0m\n",
      "\n",
      "\n",
      "Join(ID:8752005337539:8752005337653)\n",
      "'Join(ID:8752005337539:8752005337653)'\n",
      "'Join(ID:8752005337539:8752005337653)'\n",
      "\u001b[1;32m    274 \u001b[0m\u001b[0;32mdef\u001b[0m \u001b[0mpydot_layout\u001b[0m\u001b[0;34m(\u001b[0m\u001b[0mG\u001b[0m\u001b[0;34m,\u001b[0m \u001b[0mprog\u001b[0m\u001b[0;34m=\u001b[0m\u001b[0;34m\"neato\"\u001b[0m\u001b[0;34m,\u001b[0m \u001b[0mroot\u001b[0m\u001b[0;34m=\u001b[0m\u001b[0;32mNone\u001b[0m\u001b[0;34m)\u001b[0m\u001b[0;34m:\u001b[0m\u001b[0;34m\u001b[0m\u001b[0;34m\u001b[0m\u001b[0m\n",
      "\u001b[1;32m    275 \u001b[0m    \"\"\"Create node positions using :mod:`pydot` and Graphviz.\n",
      "\u001b[1;32m    276 \u001b[0m\u001b[0;34m\u001b[0m\u001b[0m\n",
      "\u001b[1;32m    277 \u001b[0m    \u001b[0mParameters\u001b[0m\u001b[0;34m\u001b[0m\u001b[0;34m\u001b[0m\u001b[0m\n",
      "\u001b[1;32m    278 \u001b[0m    \u001b[0;34m-\u001b[0m\u001b[0;34m-\u001b[0m\u001b[0;34m-\u001b[0m\u001b[0;34m-\u001b[0m\u001b[0;34m-\u001b[0m\u001b[0;34m-\u001b[0m\u001b[0;34m-\u001b[0m\u001b[0;34m-\u001b[0m\u001b[0;34m-\u001b[0m\u001b[0;34m-\u001b[0m\u001b[0;34m\u001b[0m\u001b[0;34m\u001b[0m\u001b[0m\n",
      "\u001b[1;32m    279 \u001b[0m    \u001b[0mG\u001b[0m \u001b[0;34m:\u001b[0m \u001b[0mGraph\u001b[0m\u001b[0;34m\u001b[0m\u001b[0;34m\u001b[0m\u001b[0m\n",
      "\u001b[1;32m    280 \u001b[0m        \u001b[0mNetworkX\u001b[0m \u001b[0mgraph\u001b[0m \u001b[0mto\u001b[0m \u001b[0mbe\u001b[0m \u001b[0mlaid\u001b[0m \u001b[0mout\u001b[0m\u001b[0;34m.\u001b[0m\u001b[0;34m\u001b[0m\u001b[0;34m\u001b[0m\u001b[0m\n",
      "\u001b[1;32m    281 \u001b[0m    \u001b[0mprog\u001b[0m \u001b[0;34m:\u001b[0m \u001b[0mstring\u001b[0m  \u001b[0;34m(\u001b[0m\u001b[0mdefault\u001b[0m\u001b[0;34m:\u001b[0m \u001b[0;34m'neato'\u001b[0m\u001b[0;34m)\u001b[0m\u001b[0;34m\u001b[0m\u001b[0;34m\u001b[0m\u001b[0m\n",
      "\u001b[1;32m    282 \u001b[0m        \u001b[0mName\u001b[0m \u001b[0mof\u001b[0m \u001b[0mthe\u001b[0m \u001b[0mGraphViz\u001b[0m \u001b[0mcommand\u001b[0m \u001b[0mto\u001b[0m \u001b[0muse\u001b[0m \u001b[0;32mfor\u001b[0m \u001b[0mlayout\u001b[0m\u001b[0;34m.\u001b[0m\u001b[0;34m\u001b[0m\u001b[0;34m\u001b[0m\u001b[0m\n",
      "\u001b[1;32m    283 \u001b[0m        \u001b[0mOptions\u001b[0m \u001b[0mdepend\u001b[0m \u001b[0mon\u001b[0m \u001b[0mGraphViz\u001b[0m \u001b[0mversion\u001b[0m \u001b[0mbut\u001b[0m \u001b[0mmay\u001b[0m \u001b[0minclude\u001b[0m\u001b[0;34m:\u001b[0m\u001b[0;34m\u001b[0m\u001b[0;34m\u001b[0m\u001b[0m\n",
      "\u001b[1;32m    284 \u001b[0m        \u001b[0;34m'dot'\u001b[0m\u001b[0;34m,\u001b[0m \u001b[0;34m'twopi'\u001b[0m\u001b[0;34m,\u001b[0m \u001b[0;34m'fdp'\u001b[0m\u001b[0;34m,\u001b[0m \u001b[0;34m'sfdp'\u001b[0m\u001b[0;34m,\u001b[0m \u001b[0;34m'circo'\u001b[0m\u001b[0;34m\u001b[0m\u001b[0;34m\u001b[0m\u001b[0m\n",
      "\u001b[1;32m    285 \u001b[0m    \u001b[0mroot\u001b[0m \u001b[0;34m:\u001b[0m \u001b[0mNode\u001b[0m \u001b[0;32mfrom\u001b[0m \u001b[0mG\u001b[0m \u001b[0;32mor\u001b[0m \u001b[0;32mNone\u001b[0m \u001b[0;34m(\u001b[0m\u001b[0mdefault\u001b[0m\u001b[0;34m:\u001b[0m \u001b[0;32mNone\u001b[0m\u001b[0;34m)\u001b[0m\u001b[0;34m\u001b[0m\u001b[0;34m\u001b[0m\u001b[0m\n",
      "\u001b[1;32m    286 \u001b[0m        \u001b[0mThe\u001b[0m \u001b[0mnode\u001b[0m \u001b[0mof\u001b[0m \u001b[0mG\u001b[0m \u001b[0;32mfrom\u001b[0m \u001b[0mwhich\u001b[0m \u001b[0mto\u001b[0m \u001b[0mstart\u001b[0m \u001b[0msome\u001b[0m \u001b[0mlayout\u001b[0m \u001b[0malgorithms\u001b[0m\u001b[0;34m.\u001b[0m\u001b[0;34m\u001b[0m\u001b[0;34m\u001b[0m\u001b[0m\n",
      "\u001b[1;32m    287 \u001b[0m\u001b[0;34m\u001b[0m\u001b[0m\n",
      "\u001b[1;32m    288 \u001b[0m    \u001b[0mReturns\u001b[0m\u001b[0;34m\u001b[0m\u001b[0;34m\u001b[0m\u001b[0m\n",
      "\u001b[1;32m    289 \u001b[0m    \u001b[0;34m-\u001b[0m\u001b[0;34m-\u001b[0m\u001b[0;34m-\u001b[0m\u001b[0;34m-\u001b[0m\u001b[0;34m-\u001b[0m\u001b[0;34m-\u001b[0m\u001b[0;34m-\u001b[0m\u001b[0;34m\u001b[0m\u001b[0;34m\u001b[0m\u001b[0m\n",
      "\u001b[1;32m    290 \u001b[0m    \u001b[0mdict\u001b[0m\u001b[0;34m\u001b[0m\u001b[0;34m\u001b[0m\u001b[0m\n",
      "\u001b[1;32m    291 \u001b[0m        \u001b[0mDictionary\u001b[0m \u001b[0mof\u001b[0m \u001b[0mpositions\u001b[0m \u001b[0mkeyed\u001b[0m \u001b[0mby\u001b[0m \u001b[0mnode\u001b[0m\u001b[0;34m.\u001b[0m\u001b[0;34m\u001b[0m\u001b[0;34m\u001b[0m\u001b[0m\n",
      "\u001b[1;32m    292 \u001b[0m\u001b[0;34m\u001b[0m\u001b[0m\n",
      "\u001b[1;32m    293 \u001b[0m    \u001b[0mExamples\u001b[0m\u001b[0;34m\u001b[0m\u001b[0;34m\u001b[0m\u001b[0m\n",
      "\u001b[1;32m    294 \u001b[0m    \u001b[0;34m-\u001b[0m\u001b[0;34m-\u001b[0m\u001b[0;34m-\u001b[0m\u001b[0;34m-\u001b[0m\u001b[0;34m-\u001b[0m\u001b[0;34m-\u001b[0m\u001b[0;34m-\u001b[0m\u001b[0;34m-\u001b[0m\u001b[0;34m\u001b[0m\u001b[0;34m\u001b[0m\u001b[0m\n",
      "\u001b[1;32m    295 \u001b[0m    \u001b[0;34m>>\u001b[0m\u001b[0;34m>\u001b[0m \u001b[0mG\u001b[0m \u001b[0;34m=\u001b[0m \u001b[0mnx\u001b[0m\u001b[0;34m.\u001b[0m\u001b[0mcomplete_graph\u001b[0m\u001b[0;34m(\u001b[0m\u001b[0;36m4\u001b[0m\u001b[0;34m)\u001b[0m\u001b[0;34m\u001b[0m\u001b[0;34m\u001b[0m\u001b[0m\n",
      "\u001b[1;32m    296 \u001b[0m    \u001b[0;34m>>\u001b[0m\u001b[0;34m>\u001b[0m \u001b[0mpos\u001b[0m \u001b[0;34m=\u001b[0m \u001b[0mnx\u001b[0m\u001b[0;34m.\u001b[0m\u001b[0mnx_pydot\u001b[0m\u001b[0;34m.\u001b[0m\u001b[0mpydot_layout\u001b[0m\u001b[0;34m(\u001b[0m\u001b[0mG\u001b[0m\u001b[0;34m)\u001b[0m\u001b[0;34m\u001b[0m\u001b[0;34m\u001b[0m\u001b[0m\n",
      "\u001b[1;32m    297 \u001b[0m    \u001b[0;34m>>\u001b[0m\u001b[0;34m>\u001b[0m \u001b[0mpos\u001b[0m \u001b[0;34m=\u001b[0m \u001b[0mnx\u001b[0m\u001b[0;34m.\u001b[0m\u001b[0mnx_pydot\u001b[0m\u001b[0;34m.\u001b[0m\u001b[0mpydot_layout\u001b[0m\u001b[0;34m(\u001b[0m\u001b[0mG\u001b[0m\u001b[0;34m,\u001b[0m \u001b[0mprog\u001b[0m\u001b[0;34m=\u001b[0m\u001b[0;34m\"dot\"\u001b[0m\u001b[0;34m)\u001b[0m\u001b[0;34m\u001b[0m\u001b[0;34m\u001b[0m\u001b[0m\n",
      "\u001b[1;32m    298 \u001b[0m\u001b[0;34m\u001b[0m\u001b[0m\n",
      "\u001b[1;32m    299 \u001b[0m    \u001b[0mNotes\u001b[0m\u001b[0;34m\u001b[0m\u001b[0;34m\u001b[0m\u001b[0m\n",
      "\u001b[1;32m    300 \u001b[0m    \u001b[0;34m-\u001b[0m\u001b[0;34m-\u001b[0m\u001b[0;34m-\u001b[0m\u001b[0;34m-\u001b[0m\u001b[0;34m-\u001b[0m\u001b[0;34m\u001b[0m\u001b[0;34m\u001b[0m\u001b[0m\n",
      "\u001b[1;32m    301 \u001b[0m    \u001b[0mIf\u001b[0m \u001b[0myou\u001b[0m \u001b[0muse\u001b[0m \u001b[0mcomplex\u001b[0m \u001b[0mnode\u001b[0m \u001b[0mobjects\u001b[0m\u001b[0;34m,\u001b[0m \u001b[0mthey\u001b[0m \u001b[0mmay\u001b[0m \u001b[0mhave\u001b[0m \u001b[0mthe\u001b[0m \u001b[0msame\u001b[0m \u001b[0mstring\u001b[0m\u001b[0;34m\u001b[0m\u001b[0;34m\u001b[0m\u001b[0m\n",
      "\u001b[1;32m    302 \u001b[0m    \u001b[0mrepresentation\u001b[0m \u001b[0;32mand\u001b[0m \u001b[0mGraphViz\u001b[0m \u001b[0mcould\u001b[0m \u001b[0mtreat\u001b[0m \u001b[0mthem\u001b[0m \u001b[0;32mas\u001b[0m \u001b[0mthe\u001b[0m \u001b[0msame\u001b[0m \u001b[0mnode\u001b[0m\u001b[0;34m.\u001b[0m\u001b[0;34m\u001b[0m\u001b[0;34m\u001b[0m\u001b[0m\n",
      "\u001b[1;32m    303 \u001b[0m    \u001b[0mThe\u001b[0m \u001b[0mlayout\u001b[0m \u001b[0mmay\u001b[0m \u001b[0massign\u001b[0m \u001b[0mboth\u001b[0m \u001b[0mnodes\u001b[0m \u001b[0ma\u001b[0m \u001b[0msingle\u001b[0m \u001b[0mlocation\u001b[0m\u001b[0;34m.\u001b[0m \u001b[0mSee\u001b[0m \u001b[0mIssue\u001b[0m \u001b[0;31m#1568\u001b[0m\u001b[0;34m\u001b[0m\u001b[0;34m\u001b[0m\u001b[0m\n",
      "\u001b[1;32m    304 \u001b[0m    \u001b[0mIf\u001b[0m \u001b[0mthis\u001b[0m \u001b[0moccurs\u001b[0m \u001b[0;32min\u001b[0m \u001b[0myour\u001b[0m \u001b[0mcase\u001b[0m\u001b[0;34m,\u001b[0m \u001b[0mconsider\u001b[0m \u001b[0mrelabeling\u001b[0m \u001b[0mthe\u001b[0m \u001b[0mnodes\u001b[0m \u001b[0mjust\u001b[0m\u001b[0;34m\u001b[0m\u001b[0;34m\u001b[0m\u001b[0m\n",
      "\u001b[1;32m    305 \u001b[0m    \u001b[0;32mfor\u001b[0m \u001b[0mthe\u001b[0m \u001b[0mlayout\u001b[0m \u001b[0mcomputation\u001b[0m \u001b[0musing\u001b[0m \u001b[0msomething\u001b[0m \u001b[0msimilar\u001b[0m \u001b[0mto\u001b[0m\u001b[0;34m:\u001b[0m\u001b[0;34m:\u001b[0m\u001b[0;34m\u001b[0m\u001b[0;34m\u001b[0m\u001b[0m\n",
      "\u001b[1;32m    306 \u001b[0m\u001b[0;34m\u001b[0m\u001b[0m\n",
      "\u001b[1;32m    307 \u001b[0m        \u001b[0mH\u001b[0m \u001b[0;34m=\u001b[0m \u001b[0mnx\u001b[0m\u001b[0;34m.\u001b[0m\u001b[0mconvert_node_labels_to_integers\u001b[0m\u001b[0;34m(\u001b[0m\u001b[0mG\u001b[0m\u001b[0;34m,\u001b[0m \u001b[0mlabel_attribute\u001b[0m\u001b[0;34m=\u001b[0m\u001b[0;34m\"node_label\"\u001b[0m\u001b[0;34m)\u001b[0m\u001b[0;34m\u001b[0m\u001b[0;34m\u001b[0m\u001b[0m\n",
      "\u001b[1;32m    308 \u001b[0m        \u001b[0mH_layout\u001b[0m \u001b[0;34m=\u001b[0m \u001b[0mnx\u001b[0m\u001b[0;34m.\u001b[0m\u001b[0mnx_pydot\u001b[0m\u001b[0;34m.\u001b[0m\u001b[0mpydot_layout\u001b[0m\u001b[0;34m(\u001b[0m\u001b[0mH\u001b[0m\u001b[0;34m,\u001b[0m \u001b[0mprog\u001b[0m\u001b[0;34m=\u001b[0m\u001b[0;34m\"dot\"\u001b[0m\u001b[0;34m)\u001b[0m\u001b[0;34m\u001b[0m\u001b[0;34m\u001b[0m\u001b[0m\n",
      "\u001b[1;32m    309 \u001b[0m        \u001b[0mG_layout\u001b[0m \u001b[0;34m=\u001b[0m \u001b[0;34m{\u001b[0m\u001b[0mH\u001b[0m\u001b[0;34m.\u001b[0m\u001b[0mnodes\u001b[0m\u001b[0;34m[\u001b[0m\u001b[0mn\u001b[0m\u001b[0;34m]\u001b[0m\u001b[0;34m[\u001b[0m\u001b[0;34m\"node_label\"\u001b[0m\u001b[0;34m]\u001b[0m\u001b[0;34m:\u001b[0m \u001b[0mp\u001b[0m \u001b[0;32mfor\u001b[0m \u001b[0mn\u001b[0m\u001b[0;34m,\u001b[0m \u001b[0mp\u001b[0m \u001b[0;32min\u001b[0m \u001b[0mH_layout\u001b[0m\u001b[0;34m.\u001b[0m\u001b[0mitems\u001b[0m\u001b[0;34m(\u001b[0m\u001b[0;34m)\u001b[0m\u001b[0;34m}\u001b[0m\u001b[0;34m\u001b[0m\u001b[0;34m\u001b[0m\u001b[0m\n",
      "\u001b[1;32m    310 \u001b[0m\u001b[0;34m\u001b[0m\u001b[0m\n",
      "\u001b[1;32m    311 \u001b[0m    \"\"\"\n",
      "\u001b[1;32m    312 \u001b[0m    \u001b[0;32mimport\u001b[0m \u001b[0mpydot\u001b[0m\u001b[0;34m\u001b[0m\u001b[0;34m\u001b[0m\u001b[0m\n",
      "\u001b[1;32m    313 \u001b[0m\u001b[0;34m\u001b[0m\u001b[0m\n",
      "\u001b[1;32m    314 \u001b[0m    \u001b[0mP\u001b[0m \u001b[0;34m=\u001b[0m \u001b[0mto_pydot\u001b[0m\u001b[0;34m(\u001b[0m\u001b[0mG\u001b[0m\u001b[0;34m)\u001b[0m\u001b[0;34m\u001b[0m\u001b[0;34m\u001b[0m\u001b[0m\n",
      "\u001b[1;32m    315 \u001b[0m    \u001b[0;32mif\u001b[0m \u001b[0mroot\u001b[0m \u001b[0;32mis\u001b[0m \u001b[0;32mnot\u001b[0m \u001b[0;32mNone\u001b[0m\u001b[0;34m:\u001b[0m\u001b[0;34m\u001b[0m\u001b[0;34m\u001b[0m\u001b[0m\n",
      "\u001b[1;32m    316 \u001b[0m        \u001b[0mP\u001b[0m\u001b[0;34m.\u001b[0m\u001b[0mset\u001b[0m\u001b[0;34m(\u001b[0m\u001b[0;34m\"root\"\u001b[0m\u001b[0;34m,\u001b[0m \u001b[0mstr\u001b[0m\u001b[0;34m(\u001b[0m\u001b[0mroot\u001b[0m\u001b[0;34m)\u001b[0m\u001b[0;34m)\u001b[0m\u001b[0;34m\u001b[0m\u001b[0;34m\u001b[0m\u001b[0m\n",
      "\u001b[1;32m    317 \u001b[0m\u001b[0;34m\u001b[0m\u001b[0m\n",
      "\u001b[1;32m    318 \u001b[0m    \u001b[0;31m# List of low-level bytes comprising a string in the dot language converted\u001b[0m\u001b[0;34m\u001b[0m\u001b[0;34m\u001b[0m\u001b[0m\n",
      "\u001b[1;32m    319 \u001b[0m    \u001b[0;31m# from the passed graph with the passed external GraphViz command.\u001b[0m\u001b[0;34m\u001b[0m\u001b[0;34m\u001b[0m\u001b[0m\n",
      "\u001b[1;32m    320 \u001b[0m    \u001b[0mD_bytes\u001b[0m \u001b[0;34m=\u001b[0m \u001b[0mP\u001b[0m\u001b[0;34m.\u001b[0m\u001b[0mcreate_dot\u001b[0m\u001b[0;34m(\u001b[0m\u001b[0mprog\u001b[0m\u001b[0;34m=\u001b[0m\u001b[0mprog\u001b[0m\u001b[0;34m)\u001b[0m\u001b[0;34m\u001b[0m\u001b[0;34m\u001b[0m\u001b[0m\n",
      "\u001b[1;32m    321 \u001b[0m\u001b[0;34m\u001b[0m\u001b[0m\n",
      "\u001b[1;32m    322 \u001b[0m    \u001b[0;31m# Unique string decoded from these bytes with the preferred locale encoding\u001b[0m\u001b[0;34m\u001b[0m\u001b[0;34m\u001b[0m\u001b[0m\n",
      "\u001b[1;32m    323 \u001b[0m    \u001b[0mD\u001b[0m \u001b[0;34m=\u001b[0m \u001b[0mstr\u001b[0m\u001b[0;34m(\u001b[0m\u001b[0mD_bytes\u001b[0m\u001b[0;34m,\u001b[0m \u001b[0mencoding\u001b[0m\u001b[0;34m=\u001b[0m\u001b[0mgetpreferredencoding\u001b[0m\u001b[0;34m(\u001b[0m\u001b[0;34m)\u001b[0m\u001b[0;34m)\u001b[0m\u001b[0;34m\u001b[0m\u001b[0;34m\u001b[0m\u001b[0m\n",
      "\u001b[1;32m    324 \u001b[0m\u001b[0;34m\u001b[0m\u001b[0m\n",
      "\u001b[1;32m    325 \u001b[0m    \u001b[0;32mif\u001b[0m \u001b[0mD\u001b[0m \u001b[0;34m==\u001b[0m \u001b[0;34m\"\"\u001b[0m\u001b[0;34m:\u001b[0m  \u001b[0;31m# no data returned\u001b[0m\u001b[0;34m\u001b[0m\u001b[0;34m\u001b[0m\u001b[0m\n",
      "\u001b[1;32m    326 \u001b[0m        \u001b[0mprint\u001b[0m\u001b[0;34m(\u001b[0m\u001b[0;34mf\"Graphviz layout with {prog} failed\"\u001b[0m\u001b[0;34m)\u001b[0m\u001b[0;34m\u001b[0m\u001b[0;34m\u001b[0m\u001b[0m\n",
      "\u001b[1;32m    327 \u001b[0m        \u001b[0mprint\u001b[0m\u001b[0;34m(\u001b[0m\u001b[0;34m)\u001b[0m\u001b[0;34m\u001b[0m\u001b[0;34m\u001b[0m\u001b[0m\n",
      "\u001b[1;32m    328 \u001b[0m        \u001b[0mprint\u001b[0m\u001b[0;34m(\u001b[0m\u001b[0;34m\"To debug what happened try:\"\u001b[0m\u001b[0;34m)\u001b[0m\u001b[0;34m\u001b[0m\u001b[0;34m\u001b[0m\u001b[0m\n",
      "\u001b[1;32m    329 \u001b[0m        \u001b[0mprint\u001b[0m\u001b[0;34m(\u001b[0m\u001b[0;34m\"P = nx.nx_pydot.to_pydot(G)\"\u001b[0m\u001b[0;34m)\u001b[0m\u001b[0;34m\u001b[0m\u001b[0;34m\u001b[0m\u001b[0m\n",
      "\u001b[1;32m    330 \u001b[0m        \u001b[0mprint\u001b[0m\u001b[0;34m(\u001b[0m\u001b[0;34m'P.write_dot(\"file.dot\")'\u001b[0m\u001b[0;34m)\u001b[0m\u001b[0;34m\u001b[0m\u001b[0;34m\u001b[0m\u001b[0m\n",
      "\u001b[1;32m    331 \u001b[0m        \u001b[0mprint\u001b[0m\u001b[0;34m(\u001b[0m\u001b[0;34mf\"And then run {prog} on file.dot\"\u001b[0m\u001b[0;34m)\u001b[0m\u001b[0;34m\u001b[0m\u001b[0;34m\u001b[0m\u001b[0m\n",
      "\u001b[1;32m    332 \u001b[0m        \u001b[0;32mreturn\u001b[0m\u001b[0;34m\u001b[0m\u001b[0;34m\u001b[0m\u001b[0m\n",
      "\u001b[1;32m    333 \u001b[0m\u001b[0;34m\u001b[0m\u001b[0m\n",
      "\u001b[1;32m    334 \u001b[0m    \u001b[0;31m# List of one or more \"pydot.Dot\" instances deserialized from this string.\u001b[0m\u001b[0;34m\u001b[0m\u001b[0;34m\u001b[0m\u001b[0m\n",
      "\u001b[1;32m    335 \u001b[0m    \u001b[0mQ_list\u001b[0m \u001b[0;34m=\u001b[0m \u001b[0mpydot\u001b[0m\u001b[0;34m.\u001b[0m\u001b[0mgraph_from_dot_data\u001b[0m\u001b[0;34m(\u001b[0m\u001b[0mD\u001b[0m\u001b[0;34m)\u001b[0m\u001b[0;34m\u001b[0m\u001b[0;34m\u001b[0m\u001b[0m\n",
      "\u001b[1;32m    336 \u001b[0m    \u001b[0;32massert\u001b[0m \u001b[0mlen\u001b[0m\u001b[0;34m(\u001b[0m\u001b[0mQ_list\u001b[0m\u001b[0;34m)\u001b[0m \u001b[0;34m==\u001b[0m \u001b[0;36m1\u001b[0m\u001b[0;34m\u001b[0m\u001b[0;34m\u001b[0m\u001b[0m\n",
      "\u001b[1;32m    337 \u001b[0m\u001b[0;34m\u001b[0m\u001b[0m\n",
      "\u001b[1;32m    338 \u001b[0m    \u001b[0;31m# The first and only such instance, as guaranteed by the above assertion.\u001b[0m\u001b[0;34m\u001b[0m\u001b[0;34m\u001b[0m\u001b[0m\n",
      "\u001b[1;32m    339 \u001b[0m    \u001b[0mQ\u001b[0m \u001b[0;34m=\u001b[0m \u001b[0mQ_list\u001b[0m\u001b[0;34m[\u001b[0m\u001b[0;36m0\u001b[0m\u001b[0;34m]\u001b[0m\u001b[0;34m\u001b[0m\u001b[0;34m\u001b[0m\u001b[0m\n",
      "\u001b[1;32m    340 \u001b[0m\u001b[0;34m\u001b[0m\u001b[0m\n",
      "\u001b[1;32m    341 \u001b[0m    \u001b[0mnode_pos\u001b[0m \u001b[0;34m=\u001b[0m \u001b[0;34m{\u001b[0m\u001b[0;34m}\u001b[0m\u001b[0;34m\u001b[0m\u001b[0;34m\u001b[0m\u001b[0m\n",
      "\u001b[1;32m    342 \u001b[0m    \u001b[0;32mfor\u001b[0m \u001b[0mn\u001b[0m \u001b[0;32min\u001b[0m \u001b[0mG\u001b[0m\u001b[0;34m.\u001b[0m\u001b[0mnodes\u001b[0m\u001b[0;34m(\u001b[0m\u001b[0;34m)\u001b[0m\u001b[0;34m:\u001b[0m\u001b[0;34m\u001b[0m\u001b[0;34m\u001b[0m\u001b[0m\n",
      "\u001b[1;32m    343 \u001b[0m        \u001b[0mstr_n\u001b[0m \u001b[0;34m=\u001b[0m \u001b[0mstr\u001b[0m\u001b[0;34m(\u001b[0m\u001b[0mn\u001b[0m\u001b[0;34m)\u001b[0m\u001b[0;34m\u001b[0m\u001b[0;34m\u001b[0m\u001b[0m\n",
      "\u001b[1;32m    344 \u001b[0m        \u001b[0mnode\u001b[0m \u001b[0;34m=\u001b[0m \u001b[0mQ\u001b[0m\u001b[0;34m.\u001b[0m\u001b[0mget_node\u001b[0m\u001b[0;34m(\u001b[0m\u001b[0mpydot\u001b[0m\u001b[0;34m.\u001b[0m\u001b[0mquote_id_if_necessary\u001b[0m\u001b[0;34m(\u001b[0m\u001b[0mstr_n\u001b[0m\u001b[0;34m)\u001b[0m\u001b[0;34m)\u001b[0m\u001b[0;34m\u001b[0m\u001b[0;34m\u001b[0m\u001b[0m\n",
      "\u001b[1;32m    345 \u001b[0m\u001b[0;34m\u001b[0m\u001b[0m\n",
      "\u001b[1;32m    346 \u001b[0m        \u001b[0;32mif\u001b[0m \u001b[0misinstance\u001b[0m\u001b[0;34m(\u001b[0m\u001b[0mnode\u001b[0m\u001b[0;34m,\u001b[0m \u001b[0mlist\u001b[0m\u001b[0;34m)\u001b[0m\u001b[0;34m:\u001b[0m\u001b[0;34m\u001b[0m\u001b[0;34m\u001b[0m\u001b[0m\n",
      "\u001b[0;32m--> 347 \u001b[0;31m            \u001b[0mnode\u001b[0m \u001b[0;34m=\u001b[0m \u001b[0mnode\u001b[0m\u001b[0;34m[\u001b[0m\u001b[0;36m0\u001b[0m\u001b[0;34m]\u001b[0m\u001b[0;34m\u001b[0m\u001b[0;34m\u001b[0m\u001b[0m\n",
      "\u001b[0m\u001b[1;32m    348 \u001b[0m        \u001b[0mpos\u001b[0m \u001b[0;34m=\u001b[0m \u001b[0mnode\u001b[0m\u001b[0;34m.\u001b[0m\u001b[0mget_pos\u001b[0m\u001b[0;34m(\u001b[0m\u001b[0;34m)\u001b[0m\u001b[0;34m[\u001b[0m\u001b[0;36m1\u001b[0m\u001b[0;34m:\u001b[0m\u001b[0;34m-\u001b[0m\u001b[0;36m1\u001b[0m\u001b[0;34m]\u001b[0m  \u001b[0;31m# strip leading and trailing double quotes\u001b[0m\u001b[0;34m\u001b[0m\u001b[0;34m\u001b[0m\u001b[0m\n",
      "\u001b[1;32m    349 \u001b[0m        \u001b[0;32mif\u001b[0m \u001b[0mpos\u001b[0m \u001b[0;32mis\u001b[0m \u001b[0;32mnot\u001b[0m \u001b[0;32mNone\u001b[0m\u001b[0;34m:\u001b[0m\u001b[0;34m\u001b[0m\u001b[0;34m\u001b[0m\u001b[0m\n",
      "\u001b[1;32m    350 \u001b[0m            \u001b[0mxx\u001b[0m\u001b[0;34m,\u001b[0m \u001b[0myy\u001b[0m \u001b[0;34m=\u001b[0m \u001b[0mpos\u001b[0m\u001b[0;34m.\u001b[0m\u001b[0msplit\u001b[0m\u001b[0;34m(\u001b[0m\u001b[0;34m\",\"\u001b[0m\u001b[0;34m)\u001b[0m\u001b[0;34m\u001b[0m\u001b[0;34m\u001b[0m\u001b[0m\n",
      "\u001b[1;32m    351 \u001b[0m            \u001b[0mnode_pos\u001b[0m\u001b[0;34m[\u001b[0m\u001b[0mn\u001b[0m\u001b[0;34m]\u001b[0m \u001b[0;34m=\u001b[0m \u001b[0;34m(\u001b[0m\u001b[0mfloat\u001b[0m\u001b[0;34m(\u001b[0m\u001b[0mxx\u001b[0m\u001b[0;34m)\u001b[0m\u001b[0;34m,\u001b[0m \u001b[0mfloat\u001b[0m\u001b[0;34m(\u001b[0m\u001b[0myy\u001b[0m\u001b[0;34m)\u001b[0m\u001b[0;34m)\u001b[0m\u001b[0;34m\u001b[0m\u001b[0;34m\u001b[0m\u001b[0m\n",
      "\u001b[1;32m    352 \u001b[0m    \u001b[0;32mreturn\u001b[0m \u001b[0mnode_pos\u001b[0m\u001b[0;34m\u001b[0m\u001b[0;34m\u001b[0m\u001b[0m\n",
      "\n",
      "\n",
      "\n",
      "> \u001b[0;32m/opt/venv/lib/python3.10/site-packages/networkx/drawing/nx_pydot.py\u001b[0m(271)\u001b[0;36mgraphviz_layout\u001b[0;34m()\u001b[0m\n",
      "\u001b[0;32m    269 \u001b[0;31m    \u001b[0mThis\u001b[0m \u001b[0;32mis\u001b[0m \u001b[0ma\u001b[0m \u001b[0mwrapper\u001b[0m \u001b[0;32mfor\u001b[0m \u001b[0mpydot_layout\u001b[0m\u001b[0;34m.\u001b[0m\u001b[0;34m\u001b[0m\u001b[0;34m\u001b[0m\u001b[0m\n",
      "\u001b[0m\u001b[0;32m    270 \u001b[0;31m    \"\"\"\n",
      "\u001b[0m\u001b[0;32m--> 271 \u001b[0;31m    \u001b[0;32mreturn\u001b[0m \u001b[0mpydot_layout\u001b[0m\u001b[0;34m(\u001b[0m\u001b[0mG\u001b[0m\u001b[0;34m=\u001b[0m\u001b[0mG\u001b[0m\u001b[0;34m,\u001b[0m \u001b[0mprog\u001b[0m\u001b[0;34m=\u001b[0m\u001b[0mprog\u001b[0m\u001b[0;34m,\u001b[0m \u001b[0mroot\u001b[0m\u001b[0;34m=\u001b[0m\u001b[0mroot\u001b[0m\u001b[0;34m)\u001b[0m\u001b[0;34m\u001b[0m\u001b[0;34m\u001b[0m\u001b[0m\n",
      "\u001b[0m\u001b[0;32m    272 \u001b[0;31m\u001b[0;34m\u001b[0m\u001b[0m\n",
      "\u001b[0m\u001b[0;32m    273 \u001b[0;31m\u001b[0;34m\u001b[0m\u001b[0m\n",
      "\u001b[0m\n",
      "> \u001b[0;32m/tmp/ipykernel_1886424/2224441128.py\u001b[0m(4)\u001b[0;36m<module>\u001b[0;34m()\u001b[0m\n",
      "\u001b[0;32m      1 \u001b[0;31m\u001b[0mplt\u001b[0m\u001b[0;34m.\u001b[0m\u001b[0msubplot\u001b[0m\u001b[0;34m(\u001b[0m\u001b[0;36m111\u001b[0m\u001b[0;34m)\u001b[0m\u001b[0;34m\u001b[0m\u001b[0;34m\u001b[0m\u001b[0m\n",
      "\u001b[0m\u001b[0;32m      2 \u001b[0;31m\u001b[0mG\u001b[0m \u001b[0;34m=\u001b[0m \u001b[0mtracker\u001b[0m\u001b[0;34m.\u001b[0m\u001b[0mgenerate_graph\u001b[0m\u001b[0;34m(\u001b[0m\u001b[0;34m)\u001b[0m\u001b[0;34m\u001b[0m\u001b[0;34m\u001b[0m\u001b[0m\n",
      "\u001b[0m\u001b[0;32m      3 \u001b[0;31m\u001b[0;32mfrom\u001b[0m \u001b[0mnetworkx\u001b[0m\u001b[0;34m.\u001b[0m\u001b[0mdrawing\u001b[0m\u001b[0;34m.\u001b[0m\u001b[0mnx_pydot\u001b[0m \u001b[0;32mimport\u001b[0m \u001b[0mgraphviz_layout\u001b[0m\u001b[0;34m\u001b[0m\u001b[0;34m\u001b[0m\u001b[0m\n",
      "\u001b[0m\u001b[0;32m----> 4 \u001b[0;31m\u001b[0mpos\u001b[0m \u001b[0;34m=\u001b[0m \u001b[0mgraphviz_layout\u001b[0m\u001b[0;34m(\u001b[0m\u001b[0mG\u001b[0m\u001b[0;34m,\u001b[0m \u001b[0mprog\u001b[0m\u001b[0;34m=\u001b[0m\u001b[0;34m\"dot\"\u001b[0m\u001b[0;34m)\u001b[0m\u001b[0;34m\u001b[0m\u001b[0;34m\u001b[0m\u001b[0m\n",
      "\u001b[0m\n",
      "\u001b[1;32m      1 \u001b[0m\u001b[0mplt\u001b[0m\u001b[0;34m.\u001b[0m\u001b[0msubplot\u001b[0m\u001b[0;34m(\u001b[0m\u001b[0;36m111\u001b[0m\u001b[0;34m)\u001b[0m\u001b[0;34m\u001b[0m\u001b[0;34m\u001b[0m\u001b[0m\n",
      "\u001b[1;32m      2 \u001b[0m\u001b[0mG\u001b[0m \u001b[0;34m=\u001b[0m \u001b[0mtracker\u001b[0m\u001b[0;34m.\u001b[0m\u001b[0mgenerate_graph\u001b[0m\u001b[0;34m(\u001b[0m\u001b[0;34m)\u001b[0m\u001b[0;34m\u001b[0m\u001b[0;34m\u001b[0m\u001b[0m\n",
      "\u001b[1;32m      3 \u001b[0m\u001b[0;32mfrom\u001b[0m \u001b[0mnetworkx\u001b[0m\u001b[0;34m.\u001b[0m\u001b[0mdrawing\u001b[0m\u001b[0;34m.\u001b[0m\u001b[0mnx_pydot\u001b[0m \u001b[0;32mimport\u001b[0m \u001b[0mgraphviz_layout\u001b[0m\u001b[0;34m\u001b[0m\u001b[0;34m\u001b[0m\u001b[0m\n",
      "\u001b[0;32m----> 4 \u001b[0;31m\u001b[0mpos\u001b[0m \u001b[0;34m=\u001b[0m \u001b[0mgraphviz_layout\u001b[0m\u001b[0;34m(\u001b[0m\u001b[0mG\u001b[0m\u001b[0;34m,\u001b[0m \u001b[0mprog\u001b[0m\u001b[0;34m=\u001b[0m\u001b[0;34m\"dot\"\u001b[0m\u001b[0;34m)\u001b[0m\u001b[0;34m\u001b[0m\u001b[0;34m\u001b[0m\u001b[0m\n",
      "\u001b[0m\n",
      "> \u001b[0;32m/opt/venv/lib/python3.10/site-packages/networkx/drawing/nx_pydot.py\u001b[0m(271)\u001b[0;36mgraphviz_layout\u001b[0;34m()\u001b[0m\n",
      "\u001b[0;32m    269 \u001b[0;31m    \u001b[0mThis\u001b[0m \u001b[0;32mis\u001b[0m \u001b[0ma\u001b[0m \u001b[0mwrapper\u001b[0m \u001b[0;32mfor\u001b[0m \u001b[0mpydot_layout\u001b[0m\u001b[0;34m.\u001b[0m\u001b[0;34m\u001b[0m\u001b[0;34m\u001b[0m\u001b[0m\n",
      "\u001b[0m\u001b[0;32m    270 \u001b[0;31m    \"\"\"\n",
      "\u001b[0m\u001b[0;32m--> 271 \u001b[0;31m    \u001b[0;32mreturn\u001b[0m \u001b[0mpydot_layout\u001b[0m\u001b[0;34m(\u001b[0m\u001b[0mG\u001b[0m\u001b[0;34m=\u001b[0m\u001b[0mG\u001b[0m\u001b[0;34m,\u001b[0m \u001b[0mprog\u001b[0m\u001b[0;34m=\u001b[0m\u001b[0mprog\u001b[0m\u001b[0;34m,\u001b[0m \u001b[0mroot\u001b[0m\u001b[0;34m=\u001b[0m\u001b[0mroot\u001b[0m\u001b[0;34m)\u001b[0m\u001b[0;34m\u001b[0m\u001b[0;34m\u001b[0m\u001b[0m\n",
      "\u001b[0m\u001b[0;32m    272 \u001b[0;31m\u001b[0;34m\u001b[0m\u001b[0m\n",
      "\u001b[0m\u001b[0;32m    273 \u001b[0;31m\u001b[0;34m\u001b[0m\u001b[0m\n",
      "\u001b[0m\n",
      "\u001b[1;32m    266 \u001b[0m\u001b[0;34m\u001b[0m\u001b[0m\n",
      "\u001b[1;32m    267 \u001b[0m    \u001b[0mNotes\u001b[0m\u001b[0;34m\u001b[0m\u001b[0;34m\u001b[0m\u001b[0m\n",
      "\u001b[1;32m    268 \u001b[0m    \u001b[0;34m-\u001b[0m\u001b[0;34m-\u001b[0m\u001b[0;34m-\u001b[0m\u001b[0;34m-\u001b[0m\u001b[0;34m-\u001b[0m\u001b[0;34m\u001b[0m\u001b[0;34m\u001b[0m\u001b[0m\n",
      "\u001b[1;32m    269 \u001b[0m    \u001b[0mThis\u001b[0m \u001b[0;32mis\u001b[0m \u001b[0ma\u001b[0m \u001b[0mwrapper\u001b[0m \u001b[0;32mfor\u001b[0m \u001b[0mpydot_layout\u001b[0m\u001b[0;34m.\u001b[0m\u001b[0;34m\u001b[0m\u001b[0;34m\u001b[0m\u001b[0m\n",
      "\u001b[1;32m    270 \u001b[0m    \"\"\"\n",
      "\u001b[0;32m--> 271 \u001b[0;31m    \u001b[0;32mreturn\u001b[0m \u001b[0mpydot_layout\u001b[0m\u001b[0;34m(\u001b[0m\u001b[0mG\u001b[0m\u001b[0;34m=\u001b[0m\u001b[0mG\u001b[0m\u001b[0;34m,\u001b[0m \u001b[0mprog\u001b[0m\u001b[0;34m=\u001b[0m\u001b[0mprog\u001b[0m\u001b[0;34m,\u001b[0m \u001b[0mroot\u001b[0m\u001b[0;34m=\u001b[0m\u001b[0mroot\u001b[0m\u001b[0;34m)\u001b[0m\u001b[0;34m\u001b[0m\u001b[0;34m\u001b[0m\u001b[0m\n",
      "\u001b[0m\u001b[1;32m    272 \u001b[0m\u001b[0;34m\u001b[0m\u001b[0m\n",
      "\u001b[1;32m    273 \u001b[0m\u001b[0;34m\u001b[0m\u001b[0m\n",
      "\u001b[1;32m    274 \u001b[0m\u001b[0;32mdef\u001b[0m \u001b[0mpydot_layout\u001b[0m\u001b[0;34m(\u001b[0m\u001b[0mG\u001b[0m\u001b[0;34m,\u001b[0m \u001b[0mprog\u001b[0m\u001b[0;34m=\u001b[0m\u001b[0;34m\"neato\"\u001b[0m\u001b[0;34m,\u001b[0m \u001b[0mroot\u001b[0m\u001b[0;34m=\u001b[0m\u001b[0;32mNone\u001b[0m\u001b[0;34m)\u001b[0m\u001b[0;34m:\u001b[0m\u001b[0;34m\u001b[0m\u001b[0;34m\u001b[0m\u001b[0m\n",
      "\u001b[1;32m    275 \u001b[0m    \"\"\"Create node positions using :mod:`pydot` and Graphviz.\n",
      "\u001b[1;32m    276 \u001b[0m\u001b[0;34m\u001b[0m\u001b[0m\n",
      "\n",
      "\u001b[1;32m    277 \u001b[0m    \u001b[0mParameters\u001b[0m\u001b[0;34m\u001b[0m\u001b[0;34m\u001b[0m\u001b[0m\n",
      "\u001b[1;32m    278 \u001b[0m    \u001b[0;34m-\u001b[0m\u001b[0;34m-\u001b[0m\u001b[0;34m-\u001b[0m\u001b[0;34m-\u001b[0m\u001b[0;34m-\u001b[0m\u001b[0;34m-\u001b[0m\u001b[0;34m-\u001b[0m\u001b[0;34m-\u001b[0m\u001b[0;34m-\u001b[0m\u001b[0;34m-\u001b[0m\u001b[0;34m\u001b[0m\u001b[0;34m\u001b[0m\u001b[0m\n",
      "\u001b[1;32m    279 \u001b[0m    \u001b[0mG\u001b[0m \u001b[0;34m:\u001b[0m \u001b[0mGraph\u001b[0m\u001b[0;34m\u001b[0m\u001b[0;34m\u001b[0m\u001b[0m\n",
      "\u001b[1;32m    280 \u001b[0m        \u001b[0mNetworkX\u001b[0m \u001b[0mgraph\u001b[0m \u001b[0mto\u001b[0m \u001b[0mbe\u001b[0m \u001b[0mlaid\u001b[0m \u001b[0mout\u001b[0m\u001b[0;34m.\u001b[0m\u001b[0;34m\u001b[0m\u001b[0;34m\u001b[0m\u001b[0m\n",
      "\u001b[1;32m    281 \u001b[0m    \u001b[0mprog\u001b[0m \u001b[0;34m:\u001b[0m \u001b[0mstring\u001b[0m  \u001b[0;34m(\u001b[0m\u001b[0mdefault\u001b[0m\u001b[0;34m:\u001b[0m \u001b[0;34m'neato'\u001b[0m\u001b[0;34m)\u001b[0m\u001b[0;34m\u001b[0m\u001b[0;34m\u001b[0m\u001b[0m\n",
      "\u001b[1;32m    282 \u001b[0m        \u001b[0mName\u001b[0m \u001b[0mof\u001b[0m \u001b[0mthe\u001b[0m \u001b[0mGraphViz\u001b[0m \u001b[0mcommand\u001b[0m \u001b[0mto\u001b[0m \u001b[0muse\u001b[0m \u001b[0;32mfor\u001b[0m \u001b[0mlayout\u001b[0m\u001b[0;34m.\u001b[0m\u001b[0;34m\u001b[0m\u001b[0;34m\u001b[0m\u001b[0m\n",
      "\u001b[1;32m    283 \u001b[0m        \u001b[0mOptions\u001b[0m \u001b[0mdepend\u001b[0m \u001b[0mon\u001b[0m \u001b[0mGraphViz\u001b[0m \u001b[0mversion\u001b[0m \u001b[0mbut\u001b[0m \u001b[0mmay\u001b[0m \u001b[0minclude\u001b[0m\u001b[0;34m:\u001b[0m\u001b[0;34m\u001b[0m\u001b[0;34m\u001b[0m\u001b[0m\n",
      "\u001b[1;32m    284 \u001b[0m        \u001b[0;34m'dot'\u001b[0m\u001b[0;34m,\u001b[0m \u001b[0;34m'twopi'\u001b[0m\u001b[0;34m,\u001b[0m \u001b[0;34m'fdp'\u001b[0m\u001b[0;34m,\u001b[0m \u001b[0;34m'sfdp'\u001b[0m\u001b[0;34m,\u001b[0m \u001b[0;34m'circo'\u001b[0m\u001b[0;34m\u001b[0m\u001b[0;34m\u001b[0m\u001b[0m\n",
      "\u001b[1;32m    285 \u001b[0m    \u001b[0mroot\u001b[0m \u001b[0;34m:\u001b[0m \u001b[0mNode\u001b[0m \u001b[0;32mfrom\u001b[0m \u001b[0mG\u001b[0m \u001b[0;32mor\u001b[0m \u001b[0;32mNone\u001b[0m \u001b[0;34m(\u001b[0m\u001b[0mdefault\u001b[0m\u001b[0;34m:\u001b[0m \u001b[0;32mNone\u001b[0m\u001b[0;34m)\u001b[0m\u001b[0;34m\u001b[0m\u001b[0;34m\u001b[0m\u001b[0m\n",
      "\u001b[1;32m    286 \u001b[0m        \u001b[0mThe\u001b[0m \u001b[0mnode\u001b[0m \u001b[0mof\u001b[0m \u001b[0mG\u001b[0m \u001b[0;32mfrom\u001b[0m \u001b[0mwhich\u001b[0m \u001b[0mto\u001b[0m \u001b[0mstart\u001b[0m \u001b[0msome\u001b[0m \u001b[0mlayout\u001b[0m \u001b[0malgorithms\u001b[0m\u001b[0;34m.\u001b[0m\u001b[0;34m\u001b[0m\u001b[0;34m\u001b[0m\u001b[0m\n",
      "\u001b[1;32m    287 \u001b[0m\u001b[0;34m\u001b[0m\u001b[0m\n",
      "\n",
      "\u001b[1;32m    288 \u001b[0m    \u001b[0mReturns\u001b[0m\u001b[0;34m\u001b[0m\u001b[0;34m\u001b[0m\u001b[0m\n",
      "\u001b[1;32m    289 \u001b[0m    \u001b[0;34m-\u001b[0m\u001b[0;34m-\u001b[0m\u001b[0;34m-\u001b[0m\u001b[0;34m-\u001b[0m\u001b[0;34m-\u001b[0m\u001b[0;34m-\u001b[0m\u001b[0;34m-\u001b[0m\u001b[0;34m\u001b[0m\u001b[0;34m\u001b[0m\u001b[0m\n",
      "\u001b[1;32m    290 \u001b[0m    \u001b[0mdict\u001b[0m\u001b[0;34m\u001b[0m\u001b[0;34m\u001b[0m\u001b[0m\n",
      "\u001b[1;32m    291 \u001b[0m        \u001b[0mDictionary\u001b[0m \u001b[0mof\u001b[0m \u001b[0mpositions\u001b[0m \u001b[0mkeyed\u001b[0m \u001b[0mby\u001b[0m \u001b[0mnode\u001b[0m\u001b[0;34m.\u001b[0m\u001b[0;34m\u001b[0m\u001b[0;34m\u001b[0m\u001b[0m\n",
      "\u001b[1;32m    292 \u001b[0m\u001b[0;34m\u001b[0m\u001b[0m\n",
      "\u001b[1;32m    293 \u001b[0m    \u001b[0mExamples\u001b[0m\u001b[0;34m\u001b[0m\u001b[0;34m\u001b[0m\u001b[0m\n",
      "\u001b[1;32m    294 \u001b[0m    \u001b[0;34m-\u001b[0m\u001b[0;34m-\u001b[0m\u001b[0;34m-\u001b[0m\u001b[0;34m-\u001b[0m\u001b[0;34m-\u001b[0m\u001b[0;34m-\u001b[0m\u001b[0;34m-\u001b[0m\u001b[0;34m-\u001b[0m\u001b[0;34m\u001b[0m\u001b[0;34m\u001b[0m\u001b[0m\n",
      "\u001b[1;32m    295 \u001b[0m    \u001b[0;34m>>\u001b[0m\u001b[0;34m>\u001b[0m \u001b[0mG\u001b[0m \u001b[0;34m=\u001b[0m \u001b[0mnx\u001b[0m\u001b[0;34m.\u001b[0m\u001b[0mcomplete_graph\u001b[0m\u001b[0;34m(\u001b[0m\u001b[0;36m4\u001b[0m\u001b[0;34m)\u001b[0m\u001b[0;34m\u001b[0m\u001b[0;34m\u001b[0m\u001b[0m\n",
      "\u001b[1;32m    296 \u001b[0m    \u001b[0;34m>>\u001b[0m\u001b[0;34m>\u001b[0m \u001b[0mpos\u001b[0m \u001b[0;34m=\u001b[0m \u001b[0mnx\u001b[0m\u001b[0;34m.\u001b[0m\u001b[0mnx_pydot\u001b[0m\u001b[0;34m.\u001b[0m\u001b[0mpydot_layout\u001b[0m\u001b[0;34m(\u001b[0m\u001b[0mG\u001b[0m\u001b[0;34m)\u001b[0m\u001b[0;34m\u001b[0m\u001b[0;34m\u001b[0m\u001b[0m\n",
      "\u001b[1;32m    297 \u001b[0m    \u001b[0;34m>>\u001b[0m\u001b[0;34m>\u001b[0m \u001b[0mpos\u001b[0m \u001b[0;34m=\u001b[0m \u001b[0mnx\u001b[0m\u001b[0;34m.\u001b[0m\u001b[0mnx_pydot\u001b[0m\u001b[0;34m.\u001b[0m\u001b[0mpydot_layout\u001b[0m\u001b[0;34m(\u001b[0m\u001b[0mG\u001b[0m\u001b[0;34m,\u001b[0m \u001b[0mprog\u001b[0m\u001b[0;34m=\u001b[0m\u001b[0;34m\"dot\"\u001b[0m\u001b[0;34m)\u001b[0m\u001b[0;34m\u001b[0m\u001b[0;34m\u001b[0m\u001b[0m\n",
      "\u001b[1;32m    298 \u001b[0m\u001b[0;34m\u001b[0m\u001b[0m\n",
      "\n",
      "\u001b[1;32m    299 \u001b[0m    \u001b[0mNotes\u001b[0m\u001b[0;34m\u001b[0m\u001b[0;34m\u001b[0m\u001b[0m\n",
      "\u001b[1;32m    300 \u001b[0m    \u001b[0;34m-\u001b[0m\u001b[0;34m-\u001b[0m\u001b[0;34m-\u001b[0m\u001b[0;34m-\u001b[0m\u001b[0;34m-\u001b[0m\u001b[0;34m\u001b[0m\u001b[0;34m\u001b[0m\u001b[0m\n",
      "\u001b[1;32m    301 \u001b[0m    \u001b[0mIf\u001b[0m \u001b[0myou\u001b[0m \u001b[0muse\u001b[0m \u001b[0mcomplex\u001b[0m \u001b[0mnode\u001b[0m \u001b[0mobjects\u001b[0m\u001b[0;34m,\u001b[0m \u001b[0mthey\u001b[0m \u001b[0mmay\u001b[0m \u001b[0mhave\u001b[0m \u001b[0mthe\u001b[0m \u001b[0msame\u001b[0m \u001b[0mstring\u001b[0m\u001b[0;34m\u001b[0m\u001b[0;34m\u001b[0m\u001b[0m\n",
      "\u001b[1;32m    302 \u001b[0m    \u001b[0mrepresentation\u001b[0m \u001b[0;32mand\u001b[0m \u001b[0mGraphViz\u001b[0m \u001b[0mcould\u001b[0m \u001b[0mtreat\u001b[0m \u001b[0mthem\u001b[0m \u001b[0;32mas\u001b[0m \u001b[0mthe\u001b[0m \u001b[0msame\u001b[0m \u001b[0mnode\u001b[0m\u001b[0;34m.\u001b[0m\u001b[0;34m\u001b[0m\u001b[0;34m\u001b[0m\u001b[0m\n",
      "\u001b[1;32m    303 \u001b[0m    \u001b[0mThe\u001b[0m \u001b[0mlayout\u001b[0m \u001b[0mmay\u001b[0m \u001b[0massign\u001b[0m \u001b[0mboth\u001b[0m \u001b[0mnodes\u001b[0m \u001b[0ma\u001b[0m \u001b[0msingle\u001b[0m \u001b[0mlocation\u001b[0m\u001b[0;34m.\u001b[0m \u001b[0mSee\u001b[0m \u001b[0mIssue\u001b[0m \u001b[0;31m#1568\u001b[0m\u001b[0;34m\u001b[0m\u001b[0;34m\u001b[0m\u001b[0m\n",
      "\u001b[1;32m    304 \u001b[0m    \u001b[0mIf\u001b[0m \u001b[0mthis\u001b[0m \u001b[0moccurs\u001b[0m \u001b[0;32min\u001b[0m \u001b[0myour\u001b[0m \u001b[0mcase\u001b[0m\u001b[0;34m,\u001b[0m \u001b[0mconsider\u001b[0m \u001b[0mrelabeling\u001b[0m \u001b[0mthe\u001b[0m \u001b[0mnodes\u001b[0m \u001b[0mjust\u001b[0m\u001b[0;34m\u001b[0m\u001b[0;34m\u001b[0m\u001b[0m\n",
      "\u001b[1;32m    305 \u001b[0m    \u001b[0;32mfor\u001b[0m \u001b[0mthe\u001b[0m \u001b[0mlayout\u001b[0m \u001b[0mcomputation\u001b[0m \u001b[0musing\u001b[0m \u001b[0msomething\u001b[0m \u001b[0msimilar\u001b[0m \u001b[0mto\u001b[0m\u001b[0;34m:\u001b[0m\u001b[0;34m:\u001b[0m\u001b[0;34m\u001b[0m\u001b[0;34m\u001b[0m\u001b[0m\n",
      "\u001b[1;32m    306 \u001b[0m\u001b[0;34m\u001b[0m\u001b[0m\n",
      "\u001b[1;32m    307 \u001b[0m        \u001b[0mH\u001b[0m \u001b[0;34m=\u001b[0m \u001b[0mnx\u001b[0m\u001b[0;34m.\u001b[0m\u001b[0mconvert_node_labels_to_integers\u001b[0m\u001b[0;34m(\u001b[0m\u001b[0mG\u001b[0m\u001b[0;34m,\u001b[0m \u001b[0mlabel_attribute\u001b[0m\u001b[0;34m=\u001b[0m\u001b[0;34m\"node_label\"\u001b[0m\u001b[0;34m)\u001b[0m\u001b[0;34m\u001b[0m\u001b[0;34m\u001b[0m\u001b[0m\n",
      "\u001b[1;32m    308 \u001b[0m        \u001b[0mH_layout\u001b[0m \u001b[0;34m=\u001b[0m \u001b[0mnx\u001b[0m\u001b[0;34m.\u001b[0m\u001b[0mnx_pydot\u001b[0m\u001b[0;34m.\u001b[0m\u001b[0mpydot_layout\u001b[0m\u001b[0;34m(\u001b[0m\u001b[0mH\u001b[0m\u001b[0;34m,\u001b[0m \u001b[0mprog\u001b[0m\u001b[0;34m=\u001b[0m\u001b[0;34m\"dot\"\u001b[0m\u001b[0;34m)\u001b[0m\u001b[0;34m\u001b[0m\u001b[0;34m\u001b[0m\u001b[0m\n",
      "\u001b[1;32m    309 \u001b[0m        \u001b[0mG_layout\u001b[0m \u001b[0;34m=\u001b[0m \u001b[0;34m{\u001b[0m\u001b[0mH\u001b[0m\u001b[0;34m.\u001b[0m\u001b[0mnodes\u001b[0m\u001b[0;34m[\u001b[0m\u001b[0mn\u001b[0m\u001b[0;34m]\u001b[0m\u001b[0;34m[\u001b[0m\u001b[0;34m\"node_label\"\u001b[0m\u001b[0;34m]\u001b[0m\u001b[0;34m:\u001b[0m \u001b[0mp\u001b[0m \u001b[0;32mfor\u001b[0m \u001b[0mn\u001b[0m\u001b[0;34m,\u001b[0m \u001b[0mp\u001b[0m \u001b[0;32min\u001b[0m \u001b[0mH_layout\u001b[0m\u001b[0;34m.\u001b[0m\u001b[0mitems\u001b[0m\u001b[0;34m(\u001b[0m\u001b[0;34m)\u001b[0m\u001b[0;34m}\u001b[0m\u001b[0;34m\u001b[0m\u001b[0;34m\u001b[0m\u001b[0m\n",
      "\n",
      "\u001b[1;32m    310 \u001b[0m\u001b[0;34m\u001b[0m\u001b[0m\n",
      "\u001b[1;32m    311 \u001b[0m    \"\"\"\n",
      "\u001b[1;32m    312 \u001b[0m    \u001b[0;32mimport\u001b[0m \u001b[0mpydot\u001b[0m\u001b[0;34m\u001b[0m\u001b[0;34m\u001b[0m\u001b[0m\n",
      "\u001b[1;32m    313 \u001b[0m\u001b[0;34m\u001b[0m\u001b[0m\n",
      "\u001b[1;32m    314 \u001b[0m    \u001b[0mP\u001b[0m \u001b[0;34m=\u001b[0m \u001b[0mto_pydot\u001b[0m\u001b[0;34m(\u001b[0m\u001b[0mG\u001b[0m\u001b[0;34m)\u001b[0m\u001b[0;34m\u001b[0m\u001b[0;34m\u001b[0m\u001b[0m\n",
      "\u001b[1;32m    315 \u001b[0m    \u001b[0;32mif\u001b[0m \u001b[0mroot\u001b[0m \u001b[0;32mis\u001b[0m \u001b[0;32mnot\u001b[0m \u001b[0;32mNone\u001b[0m\u001b[0;34m:\u001b[0m\u001b[0;34m\u001b[0m\u001b[0;34m\u001b[0m\u001b[0m\n",
      "\u001b[1;32m    316 \u001b[0m        \u001b[0mP\u001b[0m\u001b[0;34m.\u001b[0m\u001b[0mset\u001b[0m\u001b[0;34m(\u001b[0m\u001b[0;34m\"root\"\u001b[0m\u001b[0;34m,\u001b[0m \u001b[0mstr\u001b[0m\u001b[0;34m(\u001b[0m\u001b[0mroot\u001b[0m\u001b[0;34m)\u001b[0m\u001b[0;34m)\u001b[0m\u001b[0;34m\u001b[0m\u001b[0;34m\u001b[0m\u001b[0m\n",
      "\u001b[1;32m    317 \u001b[0m\u001b[0;34m\u001b[0m\u001b[0m\n",
      "\u001b[1;32m    318 \u001b[0m    \u001b[0;31m# List of low-level bytes comprising a string in the dot language converted\u001b[0m\u001b[0;34m\u001b[0m\u001b[0;34m\u001b[0m\u001b[0m\n",
      "\u001b[1;32m    319 \u001b[0m    \u001b[0;31m# from the passed graph with the passed external GraphViz command.\u001b[0m\u001b[0;34m\u001b[0m\u001b[0;34m\u001b[0m\u001b[0m\n",
      "\u001b[1;32m    320 \u001b[0m    \u001b[0mD_bytes\u001b[0m \u001b[0;34m=\u001b[0m \u001b[0mP\u001b[0m\u001b[0;34m.\u001b[0m\u001b[0mcreate_dot\u001b[0m\u001b[0;34m(\u001b[0m\u001b[0mprog\u001b[0m\u001b[0;34m=\u001b[0m\u001b[0mprog\u001b[0m\u001b[0;34m)\u001b[0m\u001b[0;34m\u001b[0m\u001b[0;34m\u001b[0m\u001b[0m\n",
      "\n",
      "\u001b[1;32m    321 \u001b[0m\u001b[0;34m\u001b[0m\u001b[0m\n",
      "\u001b[1;32m    322 \u001b[0m    \u001b[0;31m# Unique string decoded from these bytes with the preferred locale encoding\u001b[0m\u001b[0;34m\u001b[0m\u001b[0;34m\u001b[0m\u001b[0m\n",
      "\u001b[1;32m    323 \u001b[0m    \u001b[0mD\u001b[0m \u001b[0;34m=\u001b[0m \u001b[0mstr\u001b[0m\u001b[0;34m(\u001b[0m\u001b[0mD_bytes\u001b[0m\u001b[0;34m,\u001b[0m \u001b[0mencoding\u001b[0m\u001b[0;34m=\u001b[0m\u001b[0mgetpreferredencoding\u001b[0m\u001b[0;34m(\u001b[0m\u001b[0;34m)\u001b[0m\u001b[0;34m)\u001b[0m\u001b[0;34m\u001b[0m\u001b[0;34m\u001b[0m\u001b[0m\n",
      "\u001b[1;32m    324 \u001b[0m\u001b[0;34m\u001b[0m\u001b[0m\n",
      "\u001b[1;32m    325 \u001b[0m    \u001b[0;32mif\u001b[0m \u001b[0mD\u001b[0m \u001b[0;34m==\u001b[0m \u001b[0;34m\"\"\u001b[0m\u001b[0;34m:\u001b[0m  \u001b[0;31m# no data returned\u001b[0m\u001b[0;34m\u001b[0m\u001b[0;34m\u001b[0m\u001b[0m\n",
      "\u001b[1;32m    326 \u001b[0m        \u001b[0mprint\u001b[0m\u001b[0;34m(\u001b[0m\u001b[0;34mf\"Graphviz layout with {prog} failed\"\u001b[0m\u001b[0;34m)\u001b[0m\u001b[0;34m\u001b[0m\u001b[0;34m\u001b[0m\u001b[0m\n",
      "\u001b[1;32m    327 \u001b[0m        \u001b[0mprint\u001b[0m\u001b[0;34m(\u001b[0m\u001b[0;34m)\u001b[0m\u001b[0;34m\u001b[0m\u001b[0;34m\u001b[0m\u001b[0m\n",
      "\u001b[1;32m    328 \u001b[0m        \u001b[0mprint\u001b[0m\u001b[0;34m(\u001b[0m\u001b[0;34m\"To debug what happened try:\"\u001b[0m\u001b[0;34m)\u001b[0m\u001b[0;34m\u001b[0m\u001b[0;34m\u001b[0m\u001b[0m\n",
      "\u001b[1;32m    329 \u001b[0m        \u001b[0mprint\u001b[0m\u001b[0;34m(\u001b[0m\u001b[0;34m\"P = nx.nx_pydot.to_pydot(G)\"\u001b[0m\u001b[0;34m)\u001b[0m\u001b[0;34m\u001b[0m\u001b[0;34m\u001b[0m\u001b[0m\n",
      "\u001b[1;32m    330 \u001b[0m        \u001b[0mprint\u001b[0m\u001b[0;34m(\u001b[0m\u001b[0;34m'P.write_dot(\"file.dot\")'\u001b[0m\u001b[0;34m)\u001b[0m\u001b[0;34m\u001b[0m\u001b[0;34m\u001b[0m\u001b[0m\n",
      "\u001b[1;32m    331 \u001b[0m        \u001b[0mprint\u001b[0m\u001b[0;34m(\u001b[0m\u001b[0;34mf\"And then run {prog} on file.dot\"\u001b[0m\u001b[0;34m)\u001b[0m\u001b[0;34m\u001b[0m\u001b[0;34m\u001b[0m\u001b[0m\n",
      "\n",
      "\u001b[1;32m    332 \u001b[0m        \u001b[0;32mreturn\u001b[0m\u001b[0;34m\u001b[0m\u001b[0;34m\u001b[0m\u001b[0m\n",
      "\u001b[1;32m    333 \u001b[0m\u001b[0;34m\u001b[0m\u001b[0m\n",
      "\u001b[1;32m    334 \u001b[0m    \u001b[0;31m# List of one or more \"pydot.Dot\" instances deserialized from this string.\u001b[0m\u001b[0;34m\u001b[0m\u001b[0;34m\u001b[0m\u001b[0m\n",
      "\u001b[1;32m    335 \u001b[0m    \u001b[0mQ_list\u001b[0m \u001b[0;34m=\u001b[0m \u001b[0mpydot\u001b[0m\u001b[0;34m.\u001b[0m\u001b[0mgraph_from_dot_data\u001b[0m\u001b[0;34m(\u001b[0m\u001b[0mD\u001b[0m\u001b[0;34m)\u001b[0m\u001b[0;34m\u001b[0m\u001b[0;34m\u001b[0m\u001b[0m\n",
      "\u001b[1;32m    336 \u001b[0m    \u001b[0;32massert\u001b[0m \u001b[0mlen\u001b[0m\u001b[0;34m(\u001b[0m\u001b[0mQ_list\u001b[0m\u001b[0;34m)\u001b[0m \u001b[0;34m==\u001b[0m \u001b[0;36m1\u001b[0m\u001b[0;34m\u001b[0m\u001b[0;34m\u001b[0m\u001b[0m\n",
      "\u001b[1;32m    337 \u001b[0m\u001b[0;34m\u001b[0m\u001b[0m\n",
      "\u001b[1;32m    338 \u001b[0m    \u001b[0;31m# The first and only such instance, as guaranteed by the above assertion.\u001b[0m\u001b[0;34m\u001b[0m\u001b[0;34m\u001b[0m\u001b[0m\n",
      "\u001b[1;32m    339 \u001b[0m    \u001b[0mQ\u001b[0m \u001b[0;34m=\u001b[0m \u001b[0mQ_list\u001b[0m\u001b[0;34m[\u001b[0m\u001b[0;36m0\u001b[0m\u001b[0;34m]\u001b[0m\u001b[0;34m\u001b[0m\u001b[0;34m\u001b[0m\u001b[0m\n",
      "\u001b[1;32m    340 \u001b[0m\u001b[0;34m\u001b[0m\u001b[0m\n",
      "\u001b[1;32m    341 \u001b[0m    \u001b[0mnode_pos\u001b[0m \u001b[0;34m=\u001b[0m \u001b[0;34m{\u001b[0m\u001b[0;34m}\u001b[0m\u001b[0;34m\u001b[0m\u001b[0;34m\u001b[0m\u001b[0m\n",
      "\u001b[1;32m    342 \u001b[0m    \u001b[0;32mfor\u001b[0m \u001b[0mn\u001b[0m \u001b[0;32min\u001b[0m \u001b[0mG\u001b[0m\u001b[0;34m.\u001b[0m\u001b[0mnodes\u001b[0m\u001b[0;34m(\u001b[0m\u001b[0;34m)\u001b[0m\u001b[0;34m:\u001b[0m\u001b[0;34m\u001b[0m\u001b[0;34m\u001b[0m\u001b[0m\n",
      "\n",
      "\u001b[1;32m    343 \u001b[0m        \u001b[0mstr_n\u001b[0m \u001b[0;34m=\u001b[0m \u001b[0mstr\u001b[0m\u001b[0;34m(\u001b[0m\u001b[0mn\u001b[0m\u001b[0;34m)\u001b[0m\u001b[0;34m\u001b[0m\u001b[0;34m\u001b[0m\u001b[0m\n",
      "\u001b[1;32m    344 \u001b[0m        \u001b[0mnode\u001b[0m \u001b[0;34m=\u001b[0m \u001b[0mQ\u001b[0m\u001b[0;34m.\u001b[0m\u001b[0mget_node\u001b[0m\u001b[0;34m(\u001b[0m\u001b[0mpydot\u001b[0m\u001b[0;34m.\u001b[0m\u001b[0mquote_id_if_necessary\u001b[0m\u001b[0;34m(\u001b[0m\u001b[0mstr_n\u001b[0m\u001b[0;34m)\u001b[0m\u001b[0;34m)\u001b[0m\u001b[0;34m\u001b[0m\u001b[0;34m\u001b[0m\u001b[0m\n",
      "\u001b[1;32m    345 \u001b[0m\u001b[0;34m\u001b[0m\u001b[0m\n",
      "\u001b[1;32m    346 \u001b[0m        \u001b[0;32mif\u001b[0m \u001b[0misinstance\u001b[0m\u001b[0;34m(\u001b[0m\u001b[0mnode\u001b[0m\u001b[0;34m,\u001b[0m \u001b[0mlist\u001b[0m\u001b[0;34m)\u001b[0m\u001b[0;34m:\u001b[0m\u001b[0;34m\u001b[0m\u001b[0;34m\u001b[0m\u001b[0m\n",
      "\u001b[1;32m    347 \u001b[0m            \u001b[0mnode\u001b[0m \u001b[0;34m=\u001b[0m \u001b[0mnode\u001b[0m\u001b[0;34m[\u001b[0m\u001b[0;36m0\u001b[0m\u001b[0;34m]\u001b[0m\u001b[0;34m\u001b[0m\u001b[0;34m\u001b[0m\u001b[0m\n",
      "\u001b[1;32m    348 \u001b[0m        \u001b[0mpos\u001b[0m \u001b[0;34m=\u001b[0m \u001b[0mnode\u001b[0m\u001b[0;34m.\u001b[0m\u001b[0mget_pos\u001b[0m\u001b[0;34m(\u001b[0m\u001b[0;34m)\u001b[0m\u001b[0;34m[\u001b[0m\u001b[0;36m1\u001b[0m\u001b[0;34m:\u001b[0m\u001b[0;34m-\u001b[0m\u001b[0;36m1\u001b[0m\u001b[0;34m]\u001b[0m  \u001b[0;31m# strip leading and trailing double quotes\u001b[0m\u001b[0;34m\u001b[0m\u001b[0;34m\u001b[0m\u001b[0m\n",
      "\u001b[1;32m    349 \u001b[0m        \u001b[0;32mif\u001b[0m \u001b[0mpos\u001b[0m \u001b[0;32mis\u001b[0m \u001b[0;32mnot\u001b[0m \u001b[0;32mNone\u001b[0m\u001b[0;34m:\u001b[0m\u001b[0;34m\u001b[0m\u001b[0;34m\u001b[0m\u001b[0m\n",
      "\u001b[1;32m    350 \u001b[0m            \u001b[0mxx\u001b[0m\u001b[0;34m,\u001b[0m \u001b[0myy\u001b[0m \u001b[0;34m=\u001b[0m \u001b[0mpos\u001b[0m\u001b[0;34m.\u001b[0m\u001b[0msplit\u001b[0m\u001b[0;34m(\u001b[0m\u001b[0;34m\",\"\u001b[0m\u001b[0;34m)\u001b[0m\u001b[0;34m\u001b[0m\u001b[0;34m\u001b[0m\u001b[0m\n",
      "\u001b[1;32m    351 \u001b[0m            \u001b[0mnode_pos\u001b[0m\u001b[0;34m[\u001b[0m\u001b[0mn\u001b[0m\u001b[0;34m]\u001b[0m \u001b[0;34m=\u001b[0m \u001b[0;34m(\u001b[0m\u001b[0mfloat\u001b[0m\u001b[0;34m(\u001b[0m\u001b[0mxx\u001b[0m\u001b[0;34m)\u001b[0m\u001b[0;34m,\u001b[0m \u001b[0mfloat\u001b[0m\u001b[0;34m(\u001b[0m\u001b[0myy\u001b[0m\u001b[0;34m)\u001b[0m\u001b[0;34m)\u001b[0m\u001b[0;34m\u001b[0m\u001b[0;34m\u001b[0m\u001b[0m\n",
      "\u001b[1;32m    352 \u001b[0m    \u001b[0;32mreturn\u001b[0m \u001b[0mnode_pos\u001b[0m\u001b[0;34m\u001b[0m\u001b[0;34m\u001b[0m\u001b[0m\n",
      "\n",
      "\n"
     ]
    }
   ],
   "source": [
    "%debug"
   ]
  },
  {
   "cell_type": "code",
   "execution_count": null,
   "id": "a2441339",
   "metadata": {},
   "outputs": [],
   "source": [
    "nx.multipartite_layout"
   ]
  },
  {
   "cell_type": "code",
   "execution_count": null,
   "id": "c242c690",
   "metadata": {},
   "outputs": [
    {
     "data": {
      "image/png": "[encoded data removed]",
      "text/plain": [
       "<Figure size 1000x800 with 1 Axes>"
      ]
     },
     "metadata": {},
     "output_type": "display_data"
    }
   ],
   "source": [
    "# Create a hierarchical layout\n",
    "# This ensures nodes are arranged in levels, with edges flowing downward\n",
    "\n",
    "\n",
    "# Alternatively, you can use a simple layered approach:\n",
    "# layers = {nodes[0]: 0, nodes[1]: 1, nodes[2]: 1, nodes[3]: 2}\n",
    "# pos = nx.multipartite_layout(G, subset_key=lambda x: layers[x])\n",
    "\n",
    "# Draw the graph\n",
    "plt.figure(figsize=(10, 8))\n",
    "\n",
    "# Draw nodes\n",
    "nx.draw(G, pos, with_labels=True)"
   ]
  },
  {
   "cell_type": "code",
   "execution_count": null,
   "id": "0acbc679",
   "metadata": {},
   "outputs": [],
   "source": []
  },
  {
   "cell_type": "code",
   "execution_count": null,
   "id": "ee4fb378",
   "metadata": {},
   "outputs": [],
   "source": [
    "tracker.operations"
   ]
  },
  {
   "cell_type": "code",
   "execution_count": null,
   "id": "cf5680f9",
   "metadata": {},
   "outputs": [],
   "source": []
  },
  {
   "cell_type": "code",
   "execution_count": null,
   "id": "56aff1bf",
   "metadata": {},
   "outputs": [],
   "source": [
    "schema = dj.schema('enigma_orca_bridge_test')"
   ]
  },
  {
   "cell_type": "code",
   "execution_count": null,
   "id": "2c7ba8d2",
   "metadata": {},
   "outputs": [],
   "source": [
    "@schema\n",
    "class BehavioralData(dj.Lookup):\n",
    "    definition = \"\"\"\n",
    "    subject_id: int unsigned\n",
    "    session_datetime: datetime\n",
    "    ---\n",
    "    behavior_data: varchar(128)  # path to behavioral data\n",
    "    \"\"\"\n",
    "    contents = [\n",
    "        (1, '2023-10-01 12:00:00', 'path/to/behavior_data_1'),\n",
    "        (2, '2023-10-02 13:00:00', 'path/to/behavior_data_2'),\n",
    "    ]"
   ]
  },
  {
   "cell_type": "code",
   "execution_count": null,
   "id": "b8726c9b",
   "metadata": {},
   "outputs": [],
   "source": [
    "for tag, packet in behavior_data.proj(..., animal_id='subject_id'):\n",
    "    print(f'Tag: {tag}, Packet: {packet}')"
   ]
  },
  {
   "cell_type": "code",
   "execution_count": null,
   "id": "bcc2080f",
   "metadata": {},
   "outputs": [],
   "source": []
  },
  {
   "cell_type": "code",
   "execution_count": null,
   "id": "20a44703",
   "metadata": {},
   "outputs": [],
   "source": [
    "class Test():\n",
    "    def __init__(self):\n",
    "        a = []"
   ]
  },
  {
   "cell_type": "code",
   "execution_count": null,
   "id": "1fcb7451",
   "metadata": {},
   "outputs": [],
   "source": [
    "x = Test()"
   ]
  },
  {
   "cell_type": "code",
   "execution_count": null,
   "id": "98b55b74",
   "metadata": {},
   "outputs": [],
   "source": [
    "y = Test()"
   ]
  },
  {
   "cell_type": "code",
   "execution_count": null,
   "id": "5937ec39",
   "metadata": {},
   "outputs": [],
   "source": [
    "z = {}"
   ]
  },
  {
   "cell_type": "code",
   "execution_count": null,
   "id": "d043b9dd",
   "metadata": {},
   "outputs": [],
   "source": [
    "z[x] = 10"
   ]
  },
  {
   "cell_type": "code",
   "execution_count": null,
   "id": "c4f5e2bc",
   "metadata": {},
   "outputs": [],
   "source": [
    "x == y"
   ]
  },
  {
   "cell_type": "code",
   "execution_count": null,
   "id": "1a5fac82",
   "metadata": {},
   "outputs": [],
   "source": []
  }
 ],
 "metadata": {
  "kernelspec": {
   "display_name": "venv",
   "language": "python",
   "name": "python3"
  },
  "language_info": {
   "codemirror_mode": {
    "name": "ipython",
    "version": 3
   },
   "file_extension": ".py",
   "mimetype": "text/x-python",
   "name": "python",
   "nbconvert_exporter": "python",
   "pygments_lexer": "ipython3",
   "version": "3.10.12"
  }
 },
 "nbformat": 4,
 "nbformat_minor": 5
}
