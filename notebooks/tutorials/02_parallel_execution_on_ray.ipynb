{
 "cells": [
  {
   "cell_type": "code",
   "execution_count": null,
   "id": "0c2dfaec",
   "metadata": {},
   "outputs": [],
   "source": [
    "from orcapod.execution_engines import NativeRayAsyncEngine\n",
    "import orcapod as op\n",
    "import pyarrow as pa"
   ]
  },
  {
   "cell_type": "code",
   "execution_count": null,
   "id": "3196df7e",
   "metadata": {},
   "outputs": [],
   "source": [
    "input_stream = op.streams.ImmutableTableStream(\n",
    "    pa.Table.from_pylist([{\"id\": i, \"x\": i * 2, \"y\": i * 3} for i in range(30)]),\n",
    "    tag_columns=[\"id\"],\n",
    ")"
   ]
  },
  {
   "cell_type": "code",
   "execution_count": null,
   "id": "9e1f338b",
   "metadata": {},
   "outputs": [],
   "source": [
    "ray_engine = NativeRayAsyncEngine(\n",
    "    \"ray://raycluster-op-test-kuberay-head-svc.ray.svc.cluster.local:10001\"\n",
    ")"
   ]
  },
  {
   "cell_type": "code",
   "execution_count": null,
   "id": "63c692df",
   "metadata": {},
   "outputs": [],
   "source": [
    "from time import sleep\n",
    "\n",
    "\n",
    "@op.function_pod(\"sum\")\n",
    "def add_numbers(x: int, y: int) -> int:\n",
    "    \"\"\"\n",
    "    A simple function that adds two numbers.\n",
    "    \"\"\"\n",
    "    sleep(0.5)\n",
    "    return x + y"
   ]
  },
  {
   "cell_type": "markdown",
   "id": "0de4762b",
   "metadata": {},
   "source": [
    "Run first synchronously"
   ]
  },
  {
   "cell_type": "code",
   "execution_count": null,
   "id": "506a3a1e",
   "metadata": {},
   "outputs": [],
   "source": [
    "result_stream1 = add_numbers(input_stream)\n",
    "result_stream1.run()\n",
    "result_stream1.as_df()"
   ]
  },
  {
   "cell_type": "markdown",
   "id": "fcc8c2f8",
   "metadata": {},
   "source": [
    "Now let's run it asynchronously using the Ray engine"
   ]
  },
  {
   "cell_type": "code",
   "execution_count": null,
   "id": "e83fddac",
   "metadata": {},
   "outputs": [],
   "source": [
    "result_stream2 = add_numbers(input_stream)\n",
    "result_stream2.run(ray_engine)\n",
    "result_stream2.as_df()"
   ]
  },
  {
   "cell_type": "markdown",
   "id": "23179bdc",
   "metadata": {},
   "source": [
    "**NOTE**: Depending on the availability of nodes and how Ray was configured, you may *not* see any improvement in the running speed for the example above (it may even take longer due to overhead!). If you observe that you don't seem to be getting any speed up, please consult your Ray cluster administrator."
   ]
  }
 ],
 "metadata": {
  "kernelspec": {
   "display_name": ".venv",
   "language": "python",
   "name": "python3"
  },
  "language_info": {
   "codemirror_mode": {
    "name": "ipython",
    "version": 3
   },
   "file_extension": ".py",
   "mimetype": "text/x-python",
   "name": "python",
   "nbconvert_exporter": "python",
   "pygments_lexer": "ipython3",
   "version": "3.11.12"
  }
 },
 "nbformat": 4,
 "nbformat_minor": 5
}
