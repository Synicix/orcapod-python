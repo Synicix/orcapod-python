{
 "cells": [
  {
   "cell_type": "code",
   "execution_count": 1,
   "id": "0c2dfaec",
   "metadata": {},
   "outputs": [],
   "source": [
    "from orcapod.execution_engines import NativeRayAsyncEngine\n",
    "import orcapod as op\n",
    "import pyarrow as pa"
   ]
  },
  {
   "cell_type": "code",
   "execution_count": 2,
   "id": "3196df7e",
   "metadata": {},
   "outputs": [],
   "source": [
    "input_stream = op.streams.ImmutableTableStream(\n",
    "    pa.Table.from_pylist([{\"id\": i, \"x\": i * 2, \"y\": i * 3} for i in range(30)]),\n",
    "    tag_columns=[\"id\"],\n",
    ")"
   ]
  },
  {
   "cell_type": "code",
   "execution_count": null,
   "id": "9e1f338b",
   "metadata": {},
   "outputs": [
    {
     "name": "stderr",
     "output_type": "stream",
     "text": [
      "2025-08-05 07:53:27,293\tINFO client_builder.py:242 -- Passing the following kwargs to ray.init() on the server: log_to_driver\n",
      "SIGTERM handler is not set because current thread is not the main thread.\n",
      "2025-08-05 07:53:30,607\tWARNING utils.py:1280 -- Python patch version mismatch: The cluster was started with:\n",
      "    Ray: 2.48.0\n",
      "    Python: 3.13.5\n",
      "This process on Ray Client was started with:\n",
      "    Ray: 2.48.0\n",
      "    Python: 3.13.3\n",
      "\n"
     ]
    },
    {
     "name": "stdout",
     "output_type": "stream",
     "text": [
      "\u001b[36m(autoscaler +33s)\u001b[0m Tip: use `ray status` to view detailed cluster status. To disable these messages, set RAY_SCHEDULER_EVENTS=0.\n",
      "\u001b[36m(autoscaler +33s)\u001b[0m Adding 5 node(s) of type workergroup.\n",
      "\u001b[36m(autoscaler +33s)\u001b[0m Resized to 6 CPUs, 5 GPUs.\n",
      "\u001b[36m(autoscaler +33s)\u001b[0m No available node types can fulfill resource requests {'CPU': 1.0}*19. Add suitable node types to this cluster to resolve this issue.\n",
      "\u001b[36m(autoscaler +39s)\u001b[0m No available node types can fulfill resource requests {'CPU': 1.0}*9. Add suitable node types to this cluster to resolve this issue.\n",
      "\u001b[36m(autoscaler +54s)\u001b[0m No available node types can fulfill resource requests {'CPU': 1.0}*12. Add suitable node types to this cluster to resolve this issue.\n",
      "\u001b[36m(autoscaler +1m20s)\u001b[0m No available node types can fulfill resource requests {'CPU': 1.0}*8. Add suitable node types to this cluster to resolve this issue.\n"
     ]
    }
   ],
   "source": [
    "ray_engine = NativeRayAsyncEngine(\n",
    "    \"ray://raycluster-op-test-kuberay-head-svc.ray.svc.cluster.local:10001\"\n",
    ")"
   ]
  },
  {
   "cell_type": "code",
   "execution_count": 4,
   "id": "63c692df",
   "metadata": {},
   "outputs": [],
   "source": [
    "from time import sleep\n",
    "\n",
    "\n",
    "@op.function_pod(\"sum\")\n",
    "def add_numbers(x: int, y: int) -> int:\n",
    "    \"\"\"\n",
    "    A simple function that adds two numbers.\n",
    "    \"\"\"\n",
    "    sleep(0.5)\n",
    "    return x + y"
   ]
  },
  {
   "cell_type": "markdown",
   "id": "0de4762b",
   "metadata": {},
   "source": [
    "Run first synchronously"
   ]
  },
  {
   "cell_type": "code",
   "execution_count": 5,
   "id": "506a3a1e",
   "metadata": {},
   "outputs": [
    {
     "data": {
      "text/html": [
       "<div><style>\n",
       ".dataframe > thead > tr,\n",
       ".dataframe > tbody > tr {\n",
       "  text-align: right;\n",
       "  white-space: pre-wrap;\n",
       "}\n",
       "</style>\n",
       "<small>shape: (30, 2)</small><table border=\"1\" class=\"dataframe\"><thead><tr><th>id</th><th>sum</th></tr><tr><td>i64</td><td>i64</td></tr></thead><tbody><tr><td>0</td><td>0</td></tr><tr><td>1</td><td>5</td></tr><tr><td>2</td><td>10</td></tr><tr><td>3</td><td>15</td></tr><tr><td>4</td><td>20</td></tr><tr><td>&hellip;</td><td>&hellip;</td></tr><tr><td>25</td><td>125</td></tr><tr><td>26</td><td>130</td></tr><tr><td>27</td><td>135</td></tr><tr><td>28</td><td>140</td></tr><tr><td>29</td><td>145</td></tr></tbody></table></div>"
      ],
      "text/plain": [
       "shape: (30, 2)\n",
       "┌─────┬─────┐\n",
       "│ id  ┆ sum │\n",
       "│ --- ┆ --- │\n",
       "│ i64 ┆ i64 │\n",
       "╞═════╪═════╡\n",
       "│ 0   ┆ 0   │\n",
       "│ 1   ┆ 5   │\n",
       "│ 2   ┆ 10  │\n",
       "│ 3   ┆ 15  │\n",
       "│ 4   ┆ 20  │\n",
       "│ …   ┆ …   │\n",
       "│ 25  ┆ 125 │\n",
       "│ 26  ┆ 130 │\n",
       "│ 27  ┆ 135 │\n",
       "│ 28  ┆ 140 │\n",
       "│ 29  ┆ 145 │\n",
       "└─────┴─────┘"
      ]
     },
     "execution_count": 5,
     "metadata": {},
     "output_type": "execute_result"
    }
   ],
   "source": [
    "result_stream1 = add_numbers(input_stream)\n",
    "result_stream1.run()\n",
    "result_stream1.as_df()"
   ]
  },
  {
   "cell_type": "markdown",
   "id": "fcc8c2f8",
   "metadata": {},
   "source": [
    "Now let's run it asynchronously using the Ray engine"
   ]
  },
  {
   "cell_type": "code",
   "execution_count": 8,
   "id": "e83fddac",
   "metadata": {},
   "outputs": [
    {
     "data": {
      "text/html": [
       "<div><style>\n",
       ".dataframe > thead > tr,\n",
       ".dataframe > tbody > tr {\n",
       "  text-align: right;\n",
       "  white-space: pre-wrap;\n",
       "}\n",
       "</style>\n",
       "<small>shape: (30, 2)</small><table border=\"1\" class=\"dataframe\"><thead><tr><th>id</th><th>sum</th></tr><tr><td>i64</td><td>i64</td></tr></thead><tbody><tr><td>0</td><td>0</td></tr><tr><td>1</td><td>5</td></tr><tr><td>2</td><td>10</td></tr><tr><td>3</td><td>15</td></tr><tr><td>4</td><td>20</td></tr><tr><td>&hellip;</td><td>&hellip;</td></tr><tr><td>25</td><td>125</td></tr><tr><td>26</td><td>130</td></tr><tr><td>27</td><td>135</td></tr><tr><td>28</td><td>140</td></tr><tr><td>29</td><td>145</td></tr></tbody></table></div>"
      ],
      "text/plain": [
       "shape: (30, 2)\n",
       "┌─────┬─────┐\n",
       "│ id  ┆ sum │\n",
       "│ --- ┆ --- │\n",
       "│ i64 ┆ i64 │\n",
       "╞═════╪═════╡\n",
       "│ 0   ┆ 0   │\n",
       "│ 1   ┆ 5   │\n",
       "│ 2   ┆ 10  │\n",
       "│ 3   ┆ 15  │\n",
       "│ 4   ┆ 20  │\n",
       "│ …   ┆ …   │\n",
       "│ 25  ┆ 125 │\n",
       "│ 26  ┆ 130 │\n",
       "│ 27  ┆ 135 │\n",
       "│ 28  ┆ 140 │\n",
       "│ 29  ┆ 145 │\n",
       "└─────┴─────┘"
      ]
     },
     "execution_count": 8,
     "metadata": {},
     "output_type": "execute_result"
    }
   ],
   "source": [
    "result_stream2 = add_numbers(input_stream)\n",
    "result_stream2.run(ray_engine)\n",
    "result_stream2.as_df()"
   ]
  },
  {
   "cell_type": "markdown",
   "id": "23179bdc",
   "metadata": {},
   "source": [
    "**NOTE**: Depending on the availability of nodes and how Ray was configured, you may *not* see any improvement in the running speed for the example above (it may even take longer due to overhead!). If you observe that you don't seem to be getting any speed up, please consult your Ray cluster administrator."
   ]
  }
 ],
 "metadata": {
  "kernelspec": {
   "display_name": ".venv",
   "language": "python",
   "name": "python3"
  },
  "language_info": {
   "codemirror_mode": {
    "name": "ipython",
    "version": 3
   },
   "file_extension": ".py",
   "mimetype": "text/x-python",
   "name": "python",
   "nbconvert_exporter": "python",
   "pygments_lexer": "ipython3",
   "version": "3.13.3"
  }
 },
 "nbformat": 4,
 "nbformat_minor": 5
}
